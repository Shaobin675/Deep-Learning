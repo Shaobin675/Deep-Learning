{
  "cells": [
    {
      "cell_type": "markdown",
      "metadata": {
        "id": "view-in-github",
        "colab_type": "text"
      },
      "source": [
        "<a href=\"https://colab.research.google.com/github/Shaobin675/Deep-Learning/blob/main/computer-vision/anchor.ipynb\" target=\"_parent\"><img src=\"https://colab.research.google.com/assets/colab-badge.svg\" alt=\"Open In Colab\"/></a>"
      ]
    },
    {
      "cell_type": "markdown",
      "id": "0a6b250f",
      "metadata": {
        "id": "0a6b250f"
      },
      "source": [
        "The following additional libraries are needed to run this\n",
        "notebook. Note that running on Colab is experimental, please report a Github\n",
        "issue if you have any problem."
      ]
    },
    {
      "cell_type": "code",
      "execution_count": 1,
      "id": "ad4b2054",
      "metadata": {
        "id": "ad4b2054",
        "outputId": "1638cfab-abd1-43b0-cb47-327eddd40c2e",
        "colab": {
          "base_uri": "https://localhost:8080/",
          "height": 1000
        }
      },
      "outputs": [
        {
          "output_type": "stream",
          "name": "stdout",
          "text": [
            "Collecting d2l==1.0.3\n",
            "  Downloading d2l-1.0.3-py3-none-any.whl.metadata (556 bytes)\n",
            "Collecting jupyter==1.0.0 (from d2l==1.0.3)\n",
            "  Downloading jupyter-1.0.0-py2.py3-none-any.whl.metadata (995 bytes)\n",
            "Collecting numpy==1.23.5 (from d2l==1.0.3)\n",
            "  Downloading numpy-1.23.5-cp311-cp311-manylinux_2_17_x86_64.manylinux2014_x86_64.whl.metadata (2.3 kB)\n",
            "Collecting matplotlib==3.7.2 (from d2l==1.0.3)\n",
            "  Downloading matplotlib-3.7.2-cp311-cp311-manylinux_2_17_x86_64.manylinux2014_x86_64.whl.metadata (5.6 kB)\n",
            "Collecting matplotlib-inline==0.1.6 (from d2l==1.0.3)\n",
            "  Downloading matplotlib_inline-0.1.6-py3-none-any.whl.metadata (2.8 kB)\n",
            "Collecting requests==2.31.0 (from d2l==1.0.3)\n",
            "  Downloading requests-2.31.0-py3-none-any.whl.metadata (4.6 kB)\n",
            "Collecting pandas==2.0.3 (from d2l==1.0.3)\n",
            "  Downloading pandas-2.0.3-cp311-cp311-manylinux_2_17_x86_64.manylinux2014_x86_64.whl.metadata (18 kB)\n",
            "Collecting scipy==1.10.1 (from d2l==1.0.3)\n",
            "  Downloading scipy-1.10.1-cp311-cp311-manylinux_2_17_x86_64.manylinux2014_x86_64.whl.metadata (58 kB)\n",
            "\u001b[2K     \u001b[90m━━━━━━━━━━━━━━━━━━━━━━━━━━━━━━━━━━━━━━━━\u001b[0m \u001b[32m58.9/58.9 kB\u001b[0m \u001b[31m1.5 MB/s\u001b[0m eta \u001b[36m0:00:00\u001b[0m\n",
            "\u001b[?25hRequirement already satisfied: notebook in /usr/local/lib/python3.11/dist-packages (from jupyter==1.0.0->d2l==1.0.3) (6.5.5)\n",
            "Collecting qtconsole (from jupyter==1.0.0->d2l==1.0.3)\n",
            "  Downloading qtconsole-5.6.1-py3-none-any.whl.metadata (5.0 kB)\n",
            "Requirement already satisfied: jupyter-console in /usr/local/lib/python3.11/dist-packages (from jupyter==1.0.0->d2l==1.0.3) (6.1.0)\n",
            "Requirement already satisfied: nbconvert in /usr/local/lib/python3.11/dist-packages (from jupyter==1.0.0->d2l==1.0.3) (7.16.6)\n",
            "Requirement already satisfied: ipykernel in /usr/local/lib/python3.11/dist-packages (from jupyter==1.0.0->d2l==1.0.3) (6.17.1)\n",
            "Requirement already satisfied: ipywidgets in /usr/local/lib/python3.11/dist-packages (from jupyter==1.0.0->d2l==1.0.3) (7.7.1)\n",
            "Requirement already satisfied: contourpy>=1.0.1 in /usr/local/lib/python3.11/dist-packages (from matplotlib==3.7.2->d2l==1.0.3) (1.3.1)\n",
            "Requirement already satisfied: cycler>=0.10 in /usr/local/lib/python3.11/dist-packages (from matplotlib==3.7.2->d2l==1.0.3) (0.12.1)\n",
            "Requirement already satisfied: fonttools>=4.22.0 in /usr/local/lib/python3.11/dist-packages (from matplotlib==3.7.2->d2l==1.0.3) (4.56.0)\n",
            "Requirement already satisfied: kiwisolver>=1.0.1 in /usr/local/lib/python3.11/dist-packages (from matplotlib==3.7.2->d2l==1.0.3) (1.4.8)\n",
            "Requirement already satisfied: packaging>=20.0 in /usr/local/lib/python3.11/dist-packages (from matplotlib==3.7.2->d2l==1.0.3) (24.2)\n",
            "Requirement already satisfied: pillow>=6.2.0 in /usr/local/lib/python3.11/dist-packages (from matplotlib==3.7.2->d2l==1.0.3) (11.1.0)\n",
            "Collecting pyparsing<3.1,>=2.3.1 (from matplotlib==3.7.2->d2l==1.0.3)\n",
            "  Downloading pyparsing-3.0.9-py3-none-any.whl.metadata (4.2 kB)\n",
            "Requirement already satisfied: python-dateutil>=2.7 in /usr/local/lib/python3.11/dist-packages (from matplotlib==3.7.2->d2l==1.0.3) (2.8.2)\n",
            "Requirement already satisfied: traitlets in /usr/local/lib/python3.11/dist-packages (from matplotlib-inline==0.1.6->d2l==1.0.3) (5.7.1)\n",
            "Requirement already satisfied: pytz>=2020.1 in /usr/local/lib/python3.11/dist-packages (from pandas==2.0.3->d2l==1.0.3) (2025.1)\n",
            "Requirement already satisfied: tzdata>=2022.1 in /usr/local/lib/python3.11/dist-packages (from pandas==2.0.3->d2l==1.0.3) (2025.1)\n",
            "Requirement already satisfied: charset-normalizer<4,>=2 in /usr/local/lib/python3.11/dist-packages (from requests==2.31.0->d2l==1.0.3) (3.4.1)\n",
            "Requirement already satisfied: idna<4,>=2.5 in /usr/local/lib/python3.11/dist-packages (from requests==2.31.0->d2l==1.0.3) (3.10)\n",
            "Requirement already satisfied: urllib3<3,>=1.21.1 in /usr/local/lib/python3.11/dist-packages (from requests==2.31.0->d2l==1.0.3) (2.3.0)\n",
            "Requirement already satisfied: certifi>=2017.4.17 in /usr/local/lib/python3.11/dist-packages (from requests==2.31.0->d2l==1.0.3) (2025.1.31)\n",
            "Requirement already satisfied: six>=1.5 in /usr/local/lib/python3.11/dist-packages (from python-dateutil>=2.7->matplotlib==3.7.2->d2l==1.0.3) (1.17.0)\n",
            "Requirement already satisfied: debugpy>=1.0 in /usr/local/lib/python3.11/dist-packages (from ipykernel->jupyter==1.0.0->d2l==1.0.3) (1.8.0)\n",
            "Requirement already satisfied: ipython>=7.23.1 in /usr/local/lib/python3.11/dist-packages (from ipykernel->jupyter==1.0.0->d2l==1.0.3) (7.34.0)\n",
            "Requirement already satisfied: jupyter-client>=6.1.12 in /usr/local/lib/python3.11/dist-packages (from ipykernel->jupyter==1.0.0->d2l==1.0.3) (6.1.12)\n",
            "Requirement already satisfied: nest-asyncio in /usr/local/lib/python3.11/dist-packages (from ipykernel->jupyter==1.0.0->d2l==1.0.3) (1.6.0)\n",
            "Requirement already satisfied: psutil in /usr/local/lib/python3.11/dist-packages (from ipykernel->jupyter==1.0.0->d2l==1.0.3) (5.9.5)\n",
            "Requirement already satisfied: pyzmq>=17 in /usr/local/lib/python3.11/dist-packages (from ipykernel->jupyter==1.0.0->d2l==1.0.3) (24.0.1)\n",
            "Requirement already satisfied: tornado>=6.1 in /usr/local/lib/python3.11/dist-packages (from ipykernel->jupyter==1.0.0->d2l==1.0.3) (6.4.2)\n",
            "Requirement already satisfied: ipython-genutils~=0.2.0 in /usr/local/lib/python3.11/dist-packages (from ipywidgets->jupyter==1.0.0->d2l==1.0.3) (0.2.0)\n",
            "Requirement already satisfied: widgetsnbextension~=3.6.0 in /usr/local/lib/python3.11/dist-packages (from ipywidgets->jupyter==1.0.0->d2l==1.0.3) (3.6.10)\n",
            "Requirement already satisfied: jupyterlab-widgets>=1.0.0 in /usr/local/lib/python3.11/dist-packages (from ipywidgets->jupyter==1.0.0->d2l==1.0.3) (3.0.13)\n",
            "Requirement already satisfied: prompt-toolkit!=3.0.0,!=3.0.1,<3.1.0,>=2.0.0 in /usr/local/lib/python3.11/dist-packages (from jupyter-console->jupyter==1.0.0->d2l==1.0.3) (3.0.50)\n",
            "Requirement already satisfied: pygments in /usr/local/lib/python3.11/dist-packages (from jupyter-console->jupyter==1.0.0->d2l==1.0.3) (2.18.0)\n",
            "Requirement already satisfied: beautifulsoup4 in /usr/local/lib/python3.11/dist-packages (from nbconvert->jupyter==1.0.0->d2l==1.0.3) (4.13.3)\n",
            "Requirement already satisfied: bleach!=5.0.0 in /usr/local/lib/python3.11/dist-packages (from bleach[css]!=5.0.0->nbconvert->jupyter==1.0.0->d2l==1.0.3) (6.2.0)\n",
            "Requirement already satisfied: defusedxml in /usr/local/lib/python3.11/dist-packages (from nbconvert->jupyter==1.0.0->d2l==1.0.3) (0.7.1)\n",
            "Requirement already satisfied: jinja2>=3.0 in /usr/local/lib/python3.11/dist-packages (from nbconvert->jupyter==1.0.0->d2l==1.0.3) (3.1.5)\n",
            "Requirement already satisfied: jupyter-core>=4.7 in /usr/local/lib/python3.11/dist-packages (from nbconvert->jupyter==1.0.0->d2l==1.0.3) (5.7.2)\n",
            "Requirement already satisfied: jupyterlab-pygments in /usr/local/lib/python3.11/dist-packages (from nbconvert->jupyter==1.0.0->d2l==1.0.3) (0.3.0)\n",
            "Requirement already satisfied: markupsafe>=2.0 in /usr/local/lib/python3.11/dist-packages (from nbconvert->jupyter==1.0.0->d2l==1.0.3) (3.0.2)\n",
            "Requirement already satisfied: mistune<4,>=2.0.3 in /usr/local/lib/python3.11/dist-packages (from nbconvert->jupyter==1.0.0->d2l==1.0.3) (3.1.2)\n",
            "Requirement already satisfied: nbclient>=0.5.0 in /usr/local/lib/python3.11/dist-packages (from nbconvert->jupyter==1.0.0->d2l==1.0.3) (0.10.2)\n",
            "Requirement already satisfied: nbformat>=5.7 in /usr/local/lib/python3.11/dist-packages (from nbconvert->jupyter==1.0.0->d2l==1.0.3) (5.10.4)\n",
            "Requirement already satisfied: pandocfilters>=1.4.1 in /usr/local/lib/python3.11/dist-packages (from nbconvert->jupyter==1.0.0->d2l==1.0.3) (1.5.1)\n",
            "Requirement already satisfied: argon2-cffi in /usr/local/lib/python3.11/dist-packages (from notebook->jupyter==1.0.0->d2l==1.0.3) (23.1.0)\n",
            "Requirement already satisfied: Send2Trash>=1.8.0 in /usr/local/lib/python3.11/dist-packages (from notebook->jupyter==1.0.0->d2l==1.0.3) (1.8.3)\n",
            "Requirement already satisfied: terminado>=0.8.3 in /usr/local/lib/python3.11/dist-packages (from notebook->jupyter==1.0.0->d2l==1.0.3) (0.18.1)\n",
            "Requirement already satisfied: prometheus-client in /usr/local/lib/python3.11/dist-packages (from notebook->jupyter==1.0.0->d2l==1.0.3) (0.21.1)\n",
            "Requirement already satisfied: nbclassic>=0.4.7 in /usr/local/lib/python3.11/dist-packages (from notebook->jupyter==1.0.0->d2l==1.0.3) (1.2.0)\n",
            "Collecting qtpy>=2.4.0 (from qtconsole->jupyter==1.0.0->d2l==1.0.3)\n",
            "  Downloading QtPy-2.4.3-py3-none-any.whl.metadata (12 kB)\n",
            "Requirement already satisfied: webencodings in /usr/local/lib/python3.11/dist-packages (from bleach!=5.0.0->bleach[css]!=5.0.0->nbconvert->jupyter==1.0.0->d2l==1.0.3) (0.5.1)\n",
            "Requirement already satisfied: tinycss2<1.5,>=1.1.0 in /usr/local/lib/python3.11/dist-packages (from bleach[css]!=5.0.0->nbconvert->jupyter==1.0.0->d2l==1.0.3) (1.4.0)\n",
            "Requirement already satisfied: setuptools>=18.5 in /usr/local/lib/python3.11/dist-packages (from ipython>=7.23.1->ipykernel->jupyter==1.0.0->d2l==1.0.3) (75.1.0)\n",
            "Collecting jedi>=0.16 (from ipython>=7.23.1->ipykernel->jupyter==1.0.0->d2l==1.0.3)\n",
            "  Downloading jedi-0.19.2-py2.py3-none-any.whl.metadata (22 kB)\n",
            "Requirement already satisfied: decorator in /usr/local/lib/python3.11/dist-packages (from ipython>=7.23.1->ipykernel->jupyter==1.0.0->d2l==1.0.3) (4.4.2)\n",
            "Requirement already satisfied: pickleshare in /usr/local/lib/python3.11/dist-packages (from ipython>=7.23.1->ipykernel->jupyter==1.0.0->d2l==1.0.3) (0.7.5)\n",
            "Requirement already satisfied: backcall in /usr/local/lib/python3.11/dist-packages (from ipython>=7.23.1->ipykernel->jupyter==1.0.0->d2l==1.0.3) (0.2.0)\n",
            "Requirement already satisfied: pexpect>4.3 in /usr/local/lib/python3.11/dist-packages (from ipython>=7.23.1->ipykernel->jupyter==1.0.0->d2l==1.0.3) (4.9.0)\n",
            "Requirement already satisfied: platformdirs>=2.5 in /usr/local/lib/python3.11/dist-packages (from jupyter-core>=4.7->nbconvert->jupyter==1.0.0->d2l==1.0.3) (4.3.6)\n",
            "Requirement already satisfied: notebook-shim>=0.2.3 in /usr/local/lib/python3.11/dist-packages (from nbclassic>=0.4.7->notebook->jupyter==1.0.0->d2l==1.0.3) (0.2.4)\n",
            "Requirement already satisfied: fastjsonschema>=2.15 in /usr/local/lib/python3.11/dist-packages (from nbformat>=5.7->nbconvert->jupyter==1.0.0->d2l==1.0.3) (2.21.1)\n",
            "Requirement already satisfied: jsonschema>=2.6 in /usr/local/lib/python3.11/dist-packages (from nbformat>=5.7->nbconvert->jupyter==1.0.0->d2l==1.0.3) (4.23.0)\n",
            "Requirement already satisfied: wcwidth in /usr/local/lib/python3.11/dist-packages (from prompt-toolkit!=3.0.0,!=3.0.1,<3.1.0,>=2.0.0->jupyter-console->jupyter==1.0.0->d2l==1.0.3) (0.2.13)\n",
            "Requirement already satisfied: ptyprocess in /usr/local/lib/python3.11/dist-packages (from terminado>=0.8.3->notebook->jupyter==1.0.0->d2l==1.0.3) (0.7.0)\n",
            "Requirement already satisfied: argon2-cffi-bindings in /usr/local/lib/python3.11/dist-packages (from argon2-cffi->notebook->jupyter==1.0.0->d2l==1.0.3) (21.2.0)\n",
            "Requirement already satisfied: soupsieve>1.2 in /usr/local/lib/python3.11/dist-packages (from beautifulsoup4->nbconvert->jupyter==1.0.0->d2l==1.0.3) (2.6)\n",
            "Requirement already satisfied: typing-extensions>=4.0.0 in /usr/local/lib/python3.11/dist-packages (from beautifulsoup4->nbconvert->jupyter==1.0.0->d2l==1.0.3) (4.12.2)\n",
            "Requirement already satisfied: parso<0.9.0,>=0.8.4 in /usr/local/lib/python3.11/dist-packages (from jedi>=0.16->ipython>=7.23.1->ipykernel->jupyter==1.0.0->d2l==1.0.3) (0.8.4)\n",
            "Requirement already satisfied: attrs>=22.2.0 in /usr/local/lib/python3.11/dist-packages (from jsonschema>=2.6->nbformat>=5.7->nbconvert->jupyter==1.0.0->d2l==1.0.3) (25.1.0)\n",
            "Requirement already satisfied: jsonschema-specifications>=2023.03.6 in /usr/local/lib/python3.11/dist-packages (from jsonschema>=2.6->nbformat>=5.7->nbconvert->jupyter==1.0.0->d2l==1.0.3) (2024.10.1)\n",
            "Requirement already satisfied: referencing>=0.28.4 in /usr/local/lib/python3.11/dist-packages (from jsonschema>=2.6->nbformat>=5.7->nbconvert->jupyter==1.0.0->d2l==1.0.3) (0.36.2)\n",
            "Requirement already satisfied: rpds-py>=0.7.1 in /usr/local/lib/python3.11/dist-packages (from jsonschema>=2.6->nbformat>=5.7->nbconvert->jupyter==1.0.0->d2l==1.0.3) (0.23.1)\n",
            "Requirement already satisfied: jupyter-server<3,>=1.8 in /usr/local/lib/python3.11/dist-packages (from notebook-shim>=0.2.3->nbclassic>=0.4.7->notebook->jupyter==1.0.0->d2l==1.0.3) (1.24.0)\n",
            "Requirement already satisfied: cffi>=1.0.1 in /usr/local/lib/python3.11/dist-packages (from argon2-cffi-bindings->argon2-cffi->notebook->jupyter==1.0.0->d2l==1.0.3) (1.17.1)\n",
            "Requirement already satisfied: pycparser in /usr/local/lib/python3.11/dist-packages (from cffi>=1.0.1->argon2-cffi-bindings->argon2-cffi->notebook->jupyter==1.0.0->d2l==1.0.3) (2.22)\n",
            "Requirement already satisfied: anyio<4,>=3.1.0 in /usr/local/lib/python3.11/dist-packages (from jupyter-server<3,>=1.8->notebook-shim>=0.2.3->nbclassic>=0.4.7->notebook->jupyter==1.0.0->d2l==1.0.3) (3.7.1)\n",
            "Requirement already satisfied: websocket-client in /usr/local/lib/python3.11/dist-packages (from jupyter-server<3,>=1.8->notebook-shim>=0.2.3->nbclassic>=0.4.7->notebook->jupyter==1.0.0->d2l==1.0.3) (1.8.0)\n",
            "Requirement already satisfied: sniffio>=1.1 in /usr/local/lib/python3.11/dist-packages (from anyio<4,>=3.1.0->jupyter-server<3,>=1.8->notebook-shim>=0.2.3->nbclassic>=0.4.7->notebook->jupyter==1.0.0->d2l==1.0.3) (1.3.1)\n",
            "Downloading d2l-1.0.3-py3-none-any.whl (111 kB)\n",
            "\u001b[2K   \u001b[90m━━━━━━━━━━━━━━━━━━━━━━━━━━━━━━━━━━━━━━━━\u001b[0m \u001b[32m111.7/111.7 kB\u001b[0m \u001b[31m6.6 MB/s\u001b[0m eta \u001b[36m0:00:00\u001b[0m\n",
            "\u001b[?25hDownloading jupyter-1.0.0-py2.py3-none-any.whl (2.7 kB)\n",
            "Downloading matplotlib-3.7.2-cp311-cp311-manylinux_2_17_x86_64.manylinux2014_x86_64.whl (11.6 MB)\n",
            "\u001b[2K   \u001b[90m━━━━━━━━━━━━━━━━━━━━━━━━━━━━━━━━━━━━━━━━\u001b[0m \u001b[32m11.6/11.6 MB\u001b[0m \u001b[31m50.6 MB/s\u001b[0m eta \u001b[36m0:00:00\u001b[0m\n",
            "\u001b[?25hDownloading matplotlib_inline-0.1.6-py3-none-any.whl (9.4 kB)\n",
            "Downloading numpy-1.23.5-cp311-cp311-manylinux_2_17_x86_64.manylinux2014_x86_64.whl (17.1 MB)\n",
            "\u001b[2K   \u001b[90m━━━━━━━━━━━━━━━━━━━━━━━━━━━━━━━━━━━━━━━━\u001b[0m \u001b[32m17.1/17.1 MB\u001b[0m \u001b[31m43.3 MB/s\u001b[0m eta \u001b[36m0:00:00\u001b[0m\n",
            "\u001b[?25hDownloading pandas-2.0.3-cp311-cp311-manylinux_2_17_x86_64.manylinux2014_x86_64.whl (12.2 MB)\n",
            "\u001b[2K   \u001b[90m━━━━━━━━━━━━━━━━━━━━━━━━━━━━━━━━━━━━━━━━\u001b[0m \u001b[32m12.2/12.2 MB\u001b[0m \u001b[31m48.5 MB/s\u001b[0m eta \u001b[36m0:00:00\u001b[0m\n",
            "\u001b[?25hDownloading requests-2.31.0-py3-none-any.whl (62 kB)\n",
            "\u001b[2K   \u001b[90m━━━━━━━━━━━━━━━━━━━━━━━━━━━━━━━━━━━━━━━━\u001b[0m \u001b[32m62.6/62.6 kB\u001b[0m \u001b[31m4.6 MB/s\u001b[0m eta \u001b[36m0:00:00\u001b[0m\n",
            "\u001b[?25hDownloading scipy-1.10.1-cp311-cp311-manylinux_2_17_x86_64.manylinux2014_x86_64.whl (34.1 MB)\n",
            "\u001b[2K   \u001b[90m━━━━━━━━━━━━━━━━━━━━━━━━━━━━━━━━━━━━━━━━\u001b[0m \u001b[32m34.1/34.1 MB\u001b[0m \u001b[31m14.2 MB/s\u001b[0m eta \u001b[36m0:00:00\u001b[0m\n",
            "\u001b[?25hDownloading pyparsing-3.0.9-py3-none-any.whl (98 kB)\n",
            "\u001b[2K   \u001b[90m━━━━━━━━━━━━━━━━━━━━━━━━━━━━━━━━━━━━━━━━\u001b[0m \u001b[32m98.3/98.3 kB\u001b[0m \u001b[31m7.0 MB/s\u001b[0m eta \u001b[36m0:00:00\u001b[0m\n",
            "\u001b[?25hDownloading qtconsole-5.6.1-py3-none-any.whl (125 kB)\n",
            "\u001b[2K   \u001b[90m━━━━━━━━━━━━━━━━━━━━━━━━━━━━━━━━━━━━━━━━\u001b[0m \u001b[32m125.0/125.0 kB\u001b[0m \u001b[31m8.6 MB/s\u001b[0m eta \u001b[36m0:00:00\u001b[0m\n",
            "\u001b[?25hDownloading QtPy-2.4.3-py3-none-any.whl (95 kB)\n",
            "\u001b[2K   \u001b[90m━━━━━━━━━━━━━━━━━━━━━━━━━━━━━━━━━━━━━━━━\u001b[0m \u001b[32m95.0/95.0 kB\u001b[0m \u001b[31m7.7 MB/s\u001b[0m eta \u001b[36m0:00:00\u001b[0m\n",
            "\u001b[?25hDownloading jedi-0.19.2-py2.py3-none-any.whl (1.6 MB)\n",
            "\u001b[2K   \u001b[90m━━━━━━━━━━━━━━━━━━━━━━━━━━━━━━━━━━━━━━━━\u001b[0m \u001b[32m1.6/1.6 MB\u001b[0m \u001b[31m44.8 MB/s\u001b[0m eta \u001b[36m0:00:00\u001b[0m\n",
            "\u001b[?25hInstalling collected packages: requests, qtpy, pyparsing, numpy, matplotlib-inline, jedi, scipy, pandas, matplotlib, qtconsole, jupyter, d2l\n",
            "  Attempting uninstall: requests\n",
            "    Found existing installation: requests 2.32.3\n",
            "    Uninstalling requests-2.32.3:\n",
            "      Successfully uninstalled requests-2.32.3\n",
            "  Attempting uninstall: pyparsing\n",
            "    Found existing installation: pyparsing 3.2.1\n",
            "    Uninstalling pyparsing-3.2.1:\n",
            "      Successfully uninstalled pyparsing-3.2.1\n",
            "  Attempting uninstall: numpy\n",
            "    Found existing installation: numpy 1.26.4\n",
            "    Uninstalling numpy-1.26.4:\n",
            "      Successfully uninstalled numpy-1.26.4\n",
            "  Attempting uninstall: matplotlib-inline\n",
            "    Found existing installation: matplotlib-inline 0.1.7\n",
            "    Uninstalling matplotlib-inline-0.1.7:\n",
            "      Successfully uninstalled matplotlib-inline-0.1.7\n",
            "  Attempting uninstall: scipy\n",
            "    Found existing installation: scipy 1.13.1\n",
            "    Uninstalling scipy-1.13.1:\n",
            "      Successfully uninstalled scipy-1.13.1\n",
            "  Attempting uninstall: pandas\n",
            "    Found existing installation: pandas 2.2.2\n",
            "    Uninstalling pandas-2.2.2:\n",
            "      Successfully uninstalled pandas-2.2.2\n",
            "  Attempting uninstall: matplotlib\n",
            "    Found existing installation: matplotlib 3.10.0\n",
            "    Uninstalling matplotlib-3.10.0:\n",
            "      Successfully uninstalled matplotlib-3.10.0\n",
            "\u001b[31mERROR: pip's dependency resolver does not currently take into account all the packages that are installed. This behaviour is the source of the following dependency conflicts.\n",
            "google-colab 1.0.0 requires pandas==2.2.2, but you have pandas 2.0.3 which is incompatible.\n",
            "google-colab 1.0.0 requires requests==2.32.3, but you have requests 2.31.0 which is incompatible.\n",
            "treescope 0.1.9 requires numpy>=1.25.2, but you have numpy 1.23.5 which is incompatible.\n",
            "albucore 0.0.23 requires numpy>=1.24.4, but you have numpy 1.23.5 which is incompatible.\n",
            "mizani 0.13.1 requires pandas>=2.2.0, but you have pandas 2.0.3 which is incompatible.\n",
            "tensorflow 2.18.0 requires numpy<2.1.0,>=1.26.0, but you have numpy 1.23.5 which is incompatible.\n",
            "xarray 2025.1.2 requires numpy>=1.24, but you have numpy 1.23.5 which is incompatible.\n",
            "xarray 2025.1.2 requires pandas>=2.1, but you have pandas 2.0.3 which is incompatible.\n",
            "blosc2 3.2.0 requires numpy>=1.26, but you have numpy 1.23.5 which is incompatible.\n",
            "cvxpy 1.6.2 requires scipy>=1.11.0, but you have scipy 1.10.1 which is incompatible.\n",
            "chex 0.1.89 requires numpy>=1.24.1, but you have numpy 1.23.5 which is incompatible.\n",
            "scikit-image 0.25.2 requires numpy>=1.24, but you have numpy 1.23.5 which is incompatible.\n",
            "scikit-image 0.25.2 requires scipy>=1.11.4, but you have scipy 1.10.1 which is incompatible.\n",
            "langchain 0.3.19 requires numpy<2,>=1.26.4; python_version < \"3.12\", but you have numpy 1.23.5 which is incompatible.\n",
            "jax 0.4.33 requires numpy>=1.24, but you have numpy 1.23.5 which is incompatible.\n",
            "imbalanced-learn 0.13.0 requires numpy<3,>=1.24.3, but you have numpy 1.23.5 which is incompatible.\n",
            "plotnine 0.14.5 requires matplotlib>=3.8.0, but you have matplotlib 3.7.2 which is incompatible.\n",
            "plotnine 0.14.5 requires pandas>=2.2.0, but you have pandas 2.0.3 which is incompatible.\n",
            "pymc 5.20.1 requires numpy>=1.25.0, but you have numpy 1.23.5 which is incompatible.\n",
            "bigframes 1.38.0 requires numpy>=1.24.0, but you have numpy 1.23.5 which is incompatible.\n",
            "jaxlib 0.4.33 requires numpy>=1.24, but you have numpy 1.23.5 which is incompatible.\n",
            "albumentations 2.0.5 requires numpy>=1.24.4, but you have numpy 1.23.5 which is incompatible.\u001b[0m\u001b[31m\n",
            "\u001b[0mSuccessfully installed d2l-1.0.3 jedi-0.19.2 jupyter-1.0.0 matplotlib-3.7.2 matplotlib-inline-0.1.6 numpy-1.23.5 pandas-2.0.3 pyparsing-3.0.9 qtconsole-5.6.1 qtpy-2.4.3 requests-2.31.0 scipy-1.10.1\n"
          ]
        },
        {
          "output_type": "display_data",
          "data": {
            "application/vnd.colab-display-data+json": {
              "pip_warning": {
                "packages": [
                  "matplotlib",
                  "matplotlib_inline",
                  "mpl_toolkits",
                  "numpy"
                ]
              },
              "id": "ab545b4791bc4577aa278f41c032099b"
            }
          },
          "metadata": {}
        }
      ],
      "source": [
        "!pip install d2l==1.0.3\n"
      ]
    },
    {
      "cell_type": "markdown",
      "id": "66055362",
      "metadata": {
        "origin_pos": 0,
        "id": "66055362"
      },
      "source": [
        "# Anchor Boxes\n",
        ":label:`sec_anchor`\n",
        "\n",
        "\n",
        "Object detection algorithms usually\n",
        "sample a large number of regions in the input image, determine whether these regions contain\n",
        "objects of interest, and adjust the boundaries\n",
        "of the regions so as to predict the\n",
        "*ground-truth bounding boxes*\n",
        "of the objects more accurately.\n",
        "Different models may adopt\n",
        "different region sampling schemes.\n",
        "Here we introduce one of such methods:\n",
        "it generates multiple bounding boxes with varying scales and aspect ratios centered on each pixel.\n",
        "These bounding boxes are called *anchor boxes*.\n",
        "We will design an object detection model\n",
        "based on anchor boxes in :numref:`sec_ssd`.\n",
        "\n",
        "First, let's modify the printing accuracy\n",
        "just for more concise outputs.\n"
      ]
    },
    {
      "cell_type": "code",
      "execution_count": 1,
      "id": "14c6e4a6",
      "metadata": {
        "execution": {
          "iopub.execute_input": "2023-08-18T19:32:40.922407Z",
          "iopub.status.busy": "2023-08-18T19:32:40.921572Z",
          "iopub.status.idle": "2023-08-18T19:32:43.887912Z",
          "shell.execute_reply": "2023-08-18T19:32:43.886600Z"
        },
        "origin_pos": 2,
        "tab": [
          "pytorch"
        ],
        "id": "14c6e4a6"
      },
      "outputs": [],
      "source": [
        "%matplotlib inline\n",
        "import torch\n",
        "from d2l import torch as d2l\n",
        "\n",
        "torch.set_printoptions(2)  # Simplify printing accuracy"
      ]
    },
    {
      "cell_type": "markdown",
      "id": "46a9f488",
      "metadata": {
        "origin_pos": 3,
        "id": "46a9f488"
      },
      "source": [
        "## Generating Multiple Anchor Boxes\n",
        "\n",
        "Suppose that the input image has a height of $h$ and width of $w$.\n",
        "We generate anchor boxes with different shapes centered on each pixel of the image.\n",
        "Let the *scale* be $s\\in (0, 1]$ and\n",
        "the *aspect ratio* (ratio of width to height) is $r > 0$.\n",
        "Then [**the width and height of the anchor box are $ws\\sqrt{r}$ and $hs/\\sqrt{r}$, respectively.**]\n",
        "Note that when the center position is given, an anchor box with known width and height is determined.\n",
        "\n",
        "To generate multiple anchor boxes with different shapes,\n",
        "let's set a series of scales\n",
        "$s_1,\\ldots, s_n$ and\n",
        "a series of aspect ratios $r_1,\\ldots, r_m$.\n",
        "When using all the combinations of these scales and aspect ratios with each pixel as the center,\n",
        "the input image will have a total of $whnm$ anchor boxes. Although these anchor boxes may cover all the\n",
        "ground-truth bounding boxes, the computational complexity is easily too high.\n",
        "In practice,\n",
        "we can only (**consider those combinations\n",
        "containing**) $s_1$ or $r_1$:\n",
        "\n",
        "(**$$(s_1, r_1), (s_1, r_2), \\ldots, (s_1, r_m), (s_2, r_1), (s_3, r_1), \\ldots, (s_n, r_1).$$**)\n",
        "\n",
        "That is to say, the number of anchor boxes centered on the same pixel is $n+m-1$. For the entire input image, we will generate a total of $wh(n+m-1)$ anchor boxes.\n",
        "\n",
        "The above method of generating anchor boxes is implemented in the following `multibox_prior` function. We specify the input image, a list of scales, and a list of aspect ratios, then this function will return all the anchor boxes.\n"
      ]
    },
    {
      "cell_type": "code",
      "execution_count": 2,
      "id": "c0e17016",
      "metadata": {
        "execution": {
          "iopub.execute_input": "2023-08-18T19:32:43.893598Z",
          "iopub.status.busy": "2023-08-18T19:32:43.893199Z",
          "iopub.status.idle": "2023-08-18T19:32:43.902717Z",
          "shell.execute_reply": "2023-08-18T19:32:43.901834Z"
        },
        "origin_pos": 5,
        "tab": [
          "pytorch"
        ],
        "id": "c0e17016"
      },
      "outputs": [],
      "source": [
        "\n",
        "def multibox_prior(data, sizes, ratios):\n",
        "    \"\"\"Generate anchor boxes with different shapes centered on each pixel.\"\"\"\n",
        "    in_height, in_width = data.shape[-2:]\n",
        "    device, num_sizes, num_ratios = data.device, len(sizes), len(ratios)\n",
        "    boxes_per_pixel = (num_sizes + num_ratios - 1)\n",
        "    size_tensor = torch.tensor(sizes, device=device)\n",
        "    ratio_tensor = torch.tensor(ratios, device=device)\n",
        "    # Offsets are required to move the anchor to the center of a pixel. Since\n",
        "    # a pixel has height=1 and width=1, we choose to offset our centers by 0.5\n",
        "    offset_h, offset_w = 0.5, 0.5\n",
        "    steps_h = 1.0 / in_height  # Scaled steps in y axis\n",
        "    steps_w = 1.0 / in_width  # Scaled steps in x axis\n",
        "\n",
        "    # Generate all center points for the anchor boxes\n",
        "    center_h = (torch.arange(in_height, device=device) + offset_h) * steps_h\n",
        "    center_w = (torch.arange(in_width, device=device) + offset_w) * steps_w\n",
        "    shift_y, shift_x = torch.meshgrid(center_h, center_w, indexing='ij')\n",
        "    shift_y, shift_x = shift_y.reshape(-1), shift_x.reshape(-1)\n",
        "\n",
        "    # Generate `boxes_per_pixel` number of heights and widths that are later\n",
        "    # used to create anchor box corner coordinates (xmin, xmax, ymin, ymax)\n",
        "    w = torch.cat((size_tensor * torch.sqrt(ratio_tensor[0]),\n",
        "                   sizes[0] * torch.sqrt(ratio_tensor[1:])))\\\n",
        "                   * in_height / in_width  # Handle rectangular inputs\n",
        "    h = torch.cat((size_tensor / torch.sqrt(ratio_tensor[0]),\n",
        "                   sizes[0] / torch.sqrt(ratio_tensor[1:])))\n",
        "    # Divide by 2 to get half height and half width\n",
        "    anchor_manipulations = torch.stack((-w, -h, w, h)).T.repeat(\n",
        "                                        in_height * in_width, 1) / 2\n",
        "\n",
        "    # Each center point will have `boxes_per_pixel` number of anchor boxes, so\n",
        "    # generate a grid of all anchor box centers with `boxes_per_pixel` repeats\n",
        "    out_grid = torch.stack([shift_x, shift_y, shift_x, shift_y],\n",
        "                dim=1).repeat_interleave(boxes_per_pixel, dim=0)\n",
        "    output = out_grid + anchor_manipulations\n",
        "    return output.unsqueeze(0)"
      ]
    },
    {
      "cell_type": "markdown",
      "id": "8f3c78b3",
      "metadata": {
        "origin_pos": 6,
        "id": "8f3c78b3"
      },
      "source": [
        "We can see that [**the shape of the returned anchor box variable `Y`**] is\n",
        "(batch size, number of anchor boxes, 4).\n"
      ]
    },
    {
      "cell_type": "code",
      "execution_count": 3,
      "id": "0509b5af",
      "metadata": {
        "execution": {
          "iopub.execute_input": "2023-08-18T19:32:43.906825Z",
          "iopub.status.busy": "2023-08-18T19:32:43.906238Z",
          "iopub.status.idle": "2023-08-18T19:32:44.026992Z",
          "shell.execute_reply": "2023-08-18T19:32:44.025888Z"
        },
        "origin_pos": 8,
        "tab": [
          "pytorch"
        ],
        "id": "0509b5af",
        "outputId": "7a24e4c2-f346-4237-bb8c-597f90239fe6",
        "colab": {
          "base_uri": "https://localhost:8080/",
          "height": 356
        }
      },
      "outputs": [
        {
          "output_type": "error",
          "ename": "FileNotFoundError",
          "evalue": "[Errno 2] No such file or directory: '../img/catdog.jpg'",
          "traceback": [
            "\u001b[0;31m---------------------------------------------------------------------------\u001b[0m",
            "\u001b[0;31mFileNotFoundError\u001b[0m                         Traceback (most recent call last)",
            "\u001b[0;32m<ipython-input-3-f265076a6109>\u001b[0m in \u001b[0;36m<cell line: 0>\u001b[0;34m()\u001b[0m\n\u001b[0;32m----> 1\u001b[0;31m \u001b[0mimg\u001b[0m \u001b[0;34m=\u001b[0m \u001b[0md2l\u001b[0m\u001b[0;34m.\u001b[0m\u001b[0mplt\u001b[0m\u001b[0;34m.\u001b[0m\u001b[0mimread\u001b[0m\u001b[0;34m(\u001b[0m\u001b[0;34m'../img/catdog.jpg'\u001b[0m\u001b[0;34m)\u001b[0m\u001b[0;34m\u001b[0m\u001b[0;34m\u001b[0m\u001b[0m\n\u001b[0m\u001b[1;32m      2\u001b[0m \u001b[0mh\u001b[0m\u001b[0;34m,\u001b[0m \u001b[0mw\u001b[0m \u001b[0;34m=\u001b[0m \u001b[0mimg\u001b[0m\u001b[0;34m.\u001b[0m\u001b[0mshape\u001b[0m\u001b[0;34m[\u001b[0m\u001b[0;34m:\u001b[0m\u001b[0;36m2\u001b[0m\u001b[0;34m]\u001b[0m\u001b[0;34m\u001b[0m\u001b[0;34m\u001b[0m\u001b[0m\n\u001b[1;32m      3\u001b[0m \u001b[0;34m\u001b[0m\u001b[0m\n\u001b[1;32m      4\u001b[0m \u001b[0mprint\u001b[0m\u001b[0;34m(\u001b[0m\u001b[0mh\u001b[0m\u001b[0;34m,\u001b[0m \u001b[0mw\u001b[0m\u001b[0;34m)\u001b[0m\u001b[0;34m\u001b[0m\u001b[0;34m\u001b[0m\u001b[0m\n\u001b[1;32m      5\u001b[0m \u001b[0mX\u001b[0m \u001b[0;34m=\u001b[0m \u001b[0mtorch\u001b[0m\u001b[0;34m.\u001b[0m\u001b[0mrand\u001b[0m\u001b[0;34m(\u001b[0m\u001b[0msize\u001b[0m\u001b[0;34m=\u001b[0m\u001b[0;34m(\u001b[0m\u001b[0;36m1\u001b[0m\u001b[0;34m,\u001b[0m \u001b[0;36m3\u001b[0m\u001b[0;34m,\u001b[0m \u001b[0mh\u001b[0m\u001b[0;34m,\u001b[0m \u001b[0mw\u001b[0m\u001b[0;34m)\u001b[0m\u001b[0;34m)\u001b[0m  \u001b[0;31m# Construct input data\u001b[0m\u001b[0;34m\u001b[0m\u001b[0;34m\u001b[0m\u001b[0m\n",
            "\u001b[0;32m/usr/local/lib/python3.11/dist-packages/matplotlib/pyplot.py\u001b[0m in \u001b[0;36mimread\u001b[0;34m(fname, format)\u001b[0m\n\u001b[1;32m   2193\u001b[0m \u001b[0;34m@\u001b[0m\u001b[0m_copy_docstring_and_deprecators\u001b[0m\u001b[0;34m(\u001b[0m\u001b[0mmatplotlib\u001b[0m\u001b[0;34m.\u001b[0m\u001b[0mimage\u001b[0m\u001b[0;34m.\u001b[0m\u001b[0mimread\u001b[0m\u001b[0;34m)\u001b[0m\u001b[0;34m\u001b[0m\u001b[0;34m\u001b[0m\u001b[0m\n\u001b[1;32m   2194\u001b[0m \u001b[0;32mdef\u001b[0m \u001b[0mimread\u001b[0m\u001b[0;34m(\u001b[0m\u001b[0mfname\u001b[0m\u001b[0;34m,\u001b[0m \u001b[0mformat\u001b[0m\u001b[0;34m=\u001b[0m\u001b[0;32mNone\u001b[0m\u001b[0;34m)\u001b[0m\u001b[0;34m:\u001b[0m\u001b[0;34m\u001b[0m\u001b[0;34m\u001b[0m\u001b[0m\n\u001b[0;32m-> 2195\u001b[0;31m     \u001b[0;32mreturn\u001b[0m \u001b[0mmatplotlib\u001b[0m\u001b[0;34m.\u001b[0m\u001b[0mimage\u001b[0m\u001b[0;34m.\u001b[0m\u001b[0mimread\u001b[0m\u001b[0;34m(\u001b[0m\u001b[0mfname\u001b[0m\u001b[0;34m,\u001b[0m \u001b[0mformat\u001b[0m\u001b[0;34m)\u001b[0m\u001b[0;34m\u001b[0m\u001b[0;34m\u001b[0m\u001b[0m\n\u001b[0m\u001b[1;32m   2196\u001b[0m \u001b[0;34m\u001b[0m\u001b[0m\n\u001b[1;32m   2197\u001b[0m \u001b[0;34m\u001b[0m\u001b[0m\n",
            "\u001b[0;32m/usr/local/lib/python3.11/dist-packages/matplotlib/image.py\u001b[0m in \u001b[0;36mimread\u001b[0;34m(fname, format)\u001b[0m\n\u001b[1;32m   1561\u001b[0m             \u001b[0;34m\"``np.array(PIL.Image.open(urllib.request.urlopen(url)))``.\"\u001b[0m\u001b[0;34m\u001b[0m\u001b[0;34m\u001b[0m\u001b[0m\n\u001b[1;32m   1562\u001b[0m             )\n\u001b[0;32m-> 1563\u001b[0;31m     \u001b[0;32mwith\u001b[0m \u001b[0mimg_open\u001b[0m\u001b[0;34m(\u001b[0m\u001b[0mfname\u001b[0m\u001b[0;34m)\u001b[0m \u001b[0;32mas\u001b[0m \u001b[0mimage\u001b[0m\u001b[0;34m:\u001b[0m\u001b[0;34m\u001b[0m\u001b[0;34m\u001b[0m\u001b[0m\n\u001b[0m\u001b[1;32m   1564\u001b[0m         return (_pil_png_to_float_array(image)\n\u001b[1;32m   1565\u001b[0m                 \u001b[0;32mif\u001b[0m \u001b[0misinstance\u001b[0m\u001b[0;34m(\u001b[0m\u001b[0mimage\u001b[0m\u001b[0;34m,\u001b[0m \u001b[0mPIL\u001b[0m\u001b[0;34m.\u001b[0m\u001b[0mPngImagePlugin\u001b[0m\u001b[0;34m.\u001b[0m\u001b[0mPngImageFile\u001b[0m\u001b[0;34m)\u001b[0m \u001b[0;32melse\u001b[0m\u001b[0;34m\u001b[0m\u001b[0;34m\u001b[0m\u001b[0m\n",
            "\u001b[0;32m/usr/local/lib/python3.11/dist-packages/PIL/Image.py\u001b[0m in \u001b[0;36mopen\u001b[0;34m(fp, mode, formats)\u001b[0m\n\u001b[1;32m   3463\u001b[0m \u001b[0;34m\u001b[0m\u001b[0m\n\u001b[1;32m   3464\u001b[0m     \u001b[0;32mif\u001b[0m \u001b[0mfilename\u001b[0m\u001b[0;34m:\u001b[0m\u001b[0;34m\u001b[0m\u001b[0;34m\u001b[0m\u001b[0m\n\u001b[0;32m-> 3465\u001b[0;31m         \u001b[0mfp\u001b[0m \u001b[0;34m=\u001b[0m \u001b[0mbuiltins\u001b[0m\u001b[0;34m.\u001b[0m\u001b[0mopen\u001b[0m\u001b[0;34m(\u001b[0m\u001b[0mfilename\u001b[0m\u001b[0;34m,\u001b[0m \u001b[0;34m\"rb\"\u001b[0m\u001b[0;34m)\u001b[0m\u001b[0;34m\u001b[0m\u001b[0;34m\u001b[0m\u001b[0m\n\u001b[0m\u001b[1;32m   3466\u001b[0m         \u001b[0mexclusive_fp\u001b[0m \u001b[0;34m=\u001b[0m \u001b[0;32mTrue\u001b[0m\u001b[0;34m\u001b[0m\u001b[0;34m\u001b[0m\u001b[0m\n\u001b[1;32m   3467\u001b[0m     \u001b[0;32melse\u001b[0m\u001b[0;34m:\u001b[0m\u001b[0;34m\u001b[0m\u001b[0;34m\u001b[0m\u001b[0m\n",
            "\u001b[0;31mFileNotFoundError\u001b[0m: [Errno 2] No such file or directory: '../img/catdog.jpg'"
          ]
        }
      ],
      "source": [
        "img = d2l.plt.imread('../img/catdog.jpg')\n",
        "h, w = img.shape[:2]\n",
        "\n",
        "print(h, w)\n",
        "X = torch.rand(size=(1, 3, h, w))  # Construct input data\n",
        "Y = multibox_prior(X, sizes=[0.75, 0.5, 0.25], ratios=[1, 2, 0.5])\n",
        "Y.shape"
      ]
    },
    {
      "cell_type": "markdown",
      "id": "89cdd9fe",
      "metadata": {
        "origin_pos": 9,
        "id": "89cdd9fe"
      },
      "source": [
        "After changing the shape of the anchor box variable `Y` to (image height, image width, number of anchor boxes centered on the same pixel, 4),\n",
        "we can obtain all the anchor boxes centered on a specified pixel position.\n",
        "In the following,\n",
        "we [**access the first anchor box centered on (250, 250)**]. It has four elements: the $(x, y)$-axis coordinates at the upper-left corner and the $(x, y)$-axis coordinates at the lower-right corner of the anchor box.\n",
        "The coordinate values of both axes\n",
        "are divided by the width and height of the image, respectively.\n"
      ]
    },
    {
      "cell_type": "code",
      "execution_count": 4,
      "id": "68fde78e",
      "metadata": {
        "execution": {
          "iopub.execute_input": "2023-08-18T19:32:44.031304Z",
          "iopub.status.busy": "2023-08-18T19:32:44.030463Z",
          "iopub.status.idle": "2023-08-18T19:32:44.039395Z",
          "shell.execute_reply": "2023-08-18T19:32:44.038385Z"
        },
        "origin_pos": 10,
        "tab": [
          "pytorch"
        ],
        "id": "68fde78e",
        "outputId": "291811dc-5a89-4dcc-f4f4-a00627aa48e5",
        "colab": {
          "base_uri": "https://localhost:8080/",
          "height": 159
        }
      },
      "outputs": [
        {
          "output_type": "error",
          "ename": "NameError",
          "evalue": "name 'Y' is not defined",
          "traceback": [
            "\u001b[0;31m---------------------------------------------------------------------------\u001b[0m",
            "\u001b[0;31mNameError\u001b[0m                                 Traceback (most recent call last)",
            "\u001b[0;32m<ipython-input-4-d364fcd5bb82>\u001b[0m in \u001b[0;36m<cell line: 0>\u001b[0;34m()\u001b[0m\n\u001b[0;32m----> 1\u001b[0;31m \u001b[0mboxes\u001b[0m \u001b[0;34m=\u001b[0m \u001b[0mY\u001b[0m\u001b[0;34m.\u001b[0m\u001b[0mreshape\u001b[0m\u001b[0;34m(\u001b[0m\u001b[0mh\u001b[0m\u001b[0;34m,\u001b[0m \u001b[0mw\u001b[0m\u001b[0;34m,\u001b[0m \u001b[0;36m5\u001b[0m\u001b[0;34m,\u001b[0m \u001b[0;36m4\u001b[0m\u001b[0;34m)\u001b[0m\u001b[0;34m\u001b[0m\u001b[0;34m\u001b[0m\u001b[0m\n\u001b[0m\u001b[1;32m      2\u001b[0m \u001b[0mboxes\u001b[0m\u001b[0;34m[\u001b[0m\u001b[0;36m250\u001b[0m\u001b[0;34m,\u001b[0m \u001b[0;36m250\u001b[0m\u001b[0;34m,\u001b[0m \u001b[0;36m0\u001b[0m\u001b[0;34m,\u001b[0m \u001b[0;34m:\u001b[0m\u001b[0;34m]\u001b[0m\u001b[0;34m\u001b[0m\u001b[0;34m\u001b[0m\u001b[0m\n",
            "\u001b[0;31mNameError\u001b[0m: name 'Y' is not defined"
          ]
        }
      ],
      "source": [
        "boxes = Y.reshape(h, w, 5, 4)\n",
        "boxes[250, 250, 0, :]"
      ]
    },
    {
      "cell_type": "markdown",
      "id": "37e518df",
      "metadata": {
        "origin_pos": 11,
        "id": "37e518df"
      },
      "source": [
        "In order to [**show all the anchor boxes centered on one pixel in the image**],\n",
        "we define the following `show_bboxes` function to draw multiple bounding boxes on the image.\n"
      ]
    },
    {
      "cell_type": "code",
      "execution_count": 5,
      "id": "04ef8970",
      "metadata": {
        "execution": {
          "iopub.execute_input": "2023-08-18T19:32:44.043767Z",
          "iopub.status.busy": "2023-08-18T19:32:44.042771Z",
          "iopub.status.idle": "2023-08-18T19:32:44.051585Z",
          "shell.execute_reply": "2023-08-18T19:32:44.050396Z"
        },
        "origin_pos": 12,
        "tab": [
          "pytorch"
        ],
        "id": "04ef8970"
      },
      "outputs": [],
      "source": [
        "\n",
        "def show_bboxes(axes, bboxes, labels=None, colors=None):\n",
        "    \"\"\"Show bounding boxes.\"\"\"\n",
        "\n",
        "    def make_list(obj, default_values=None):\n",
        "        if obj is None:\n",
        "            obj = default_values\n",
        "        elif not isinstance(obj, (list, tuple)):\n",
        "            obj = [obj]\n",
        "        return obj\n",
        "\n",
        "    labels = make_list(labels)\n",
        "    colors = make_list(colors, ['b', 'g', 'r', 'm', 'c'])\n",
        "    for i, bbox in enumerate(bboxes):\n",
        "        color = colors[i % len(colors)]\n",
        "        rect = d2l.bbox_to_rect(bbox.detach().numpy(), color)\n",
        "        axes.add_patch(rect)\n",
        "        if labels and len(labels) > i:\n",
        "            text_color = 'k' if color == 'w' else 'w'\n",
        "            axes.text(rect.xy[0], rect.xy[1], labels[i],\n",
        "                      va='center', ha='center', fontsize=9, color=text_color,\n",
        "                      bbox=dict(facecolor=color, lw=0))"
      ]
    },
    {
      "cell_type": "markdown",
      "id": "c63d9ff1",
      "metadata": {
        "origin_pos": 13,
        "id": "c63d9ff1"
      },
      "source": [
        "As we just saw, the coordinate values of the $x$ and $y$ axes in the variable `boxes` have been divided by the width and height of the image, respectively.\n",
        "When drawing anchor boxes,\n",
        "we need to restore their original coordinate values;\n",
        "thus, we define variable `bbox_scale` below.\n",
        "Now, we can draw all the anchor boxes centered on (250, 250) in the image.\n",
        "As you can see, the blue anchor box with a scale of 0.75 and an aspect ratio of 1 well\n",
        "surrounds the dog in the image.\n"
      ]
    },
    {
      "cell_type": "code",
      "execution_count": 6,
      "id": "f4e0c959",
      "metadata": {
        "execution": {
          "iopub.execute_input": "2023-08-18T19:32:44.055283Z",
          "iopub.status.busy": "2023-08-18T19:32:44.054735Z",
          "iopub.status.idle": "2023-08-18T19:32:44.372820Z",
          "shell.execute_reply": "2023-08-18T19:32:44.371734Z"
        },
        "origin_pos": 14,
        "tab": [
          "pytorch"
        ],
        "id": "f4e0c959",
        "outputId": "560a34e6-9969-4a9f-faff-a6863f00a94b",
        "colab": {
          "base_uri": "https://localhost:8080/",
          "height": 211
        }
      },
      "outputs": [
        {
          "output_type": "error",
          "ename": "NameError",
          "evalue": "name 'w' is not defined",
          "traceback": [
            "\u001b[0;31m---------------------------------------------------------------------------\u001b[0m",
            "\u001b[0;31mNameError\u001b[0m                                 Traceback (most recent call last)",
            "\u001b[0;32m<ipython-input-6-c9b0aa9599bb>\u001b[0m in \u001b[0;36m<cell line: 0>\u001b[0;34m()\u001b[0m\n\u001b[1;32m      1\u001b[0m \u001b[0md2l\u001b[0m\u001b[0;34m.\u001b[0m\u001b[0mset_figsize\u001b[0m\u001b[0;34m(\u001b[0m\u001b[0;34m)\u001b[0m\u001b[0;34m\u001b[0m\u001b[0;34m\u001b[0m\u001b[0m\n\u001b[0;32m----> 2\u001b[0;31m \u001b[0mbbox_scale\u001b[0m \u001b[0;34m=\u001b[0m \u001b[0mtorch\u001b[0m\u001b[0;34m.\u001b[0m\u001b[0mtensor\u001b[0m\u001b[0;34m(\u001b[0m\u001b[0;34m(\u001b[0m\u001b[0mw\u001b[0m\u001b[0;34m,\u001b[0m \u001b[0mh\u001b[0m\u001b[0;34m,\u001b[0m \u001b[0mw\u001b[0m\u001b[0;34m,\u001b[0m \u001b[0mh\u001b[0m\u001b[0;34m)\u001b[0m\u001b[0;34m)\u001b[0m\u001b[0;34m\u001b[0m\u001b[0;34m\u001b[0m\u001b[0m\n\u001b[0m\u001b[1;32m      3\u001b[0m \u001b[0mfig\u001b[0m \u001b[0;34m=\u001b[0m \u001b[0md2l\u001b[0m\u001b[0;34m.\u001b[0m\u001b[0mplt\u001b[0m\u001b[0;34m.\u001b[0m\u001b[0mimshow\u001b[0m\u001b[0;34m(\u001b[0m\u001b[0mimg\u001b[0m\u001b[0;34m)\u001b[0m\u001b[0;34m\u001b[0m\u001b[0;34m\u001b[0m\u001b[0m\n\u001b[1;32m      4\u001b[0m show_bboxes(fig.axes, boxes[250, 250, :, :] * bbox_scale,\n\u001b[1;32m      5\u001b[0m             ['s=0.75, r=1', 's=0.5, r=1', 's=0.25, r=1', 's=0.75, r=2',\n",
            "\u001b[0;31mNameError\u001b[0m: name 'w' is not defined"
          ]
        }
      ],
      "source": [
        "d2l.set_figsize()\n",
        "bbox_scale = torch.tensor((w, h, w, h))\n",
        "fig = d2l.plt.imshow(img)\n",
        "show_bboxes(fig.axes, boxes[250, 250, :, :] * bbox_scale,\n",
        "            ['s=0.75, r=1', 's=0.5, r=1', 's=0.25, r=1', 's=0.75, r=2',\n",
        "             's=0.75, r=0.5'])"
      ]
    },
    {
      "cell_type": "markdown",
      "id": "f4c02ecd",
      "metadata": {
        "origin_pos": 15,
        "id": "f4c02ecd"
      },
      "source": [
        "## [**Intersection over Union (IoU)**]\n",
        "\n",
        "We just mentioned that an anchor box \"well\" surrounds the dog in the image.\n",
        "If the ground-truth bounding box of the object is known, how can \"well\" here be quantified?\n",
        "Intuitively, we can measure the similarity between\n",
        "the anchor box and the ground-truth bounding box.\n",
        "We know that the *Jaccard index* can measure the similarity between two sets. Given sets $\\mathcal{A}$ and $\\mathcal{B}$, their Jaccard index is the size of their intersection divided by the size of their union:\n",
        "\n",
        "$$J(\\mathcal{A},\\mathcal{B}) = \\frac{\\left|\\mathcal{A} \\cap \\mathcal{B}\\right|}{\\left| \\mathcal{A} \\cup \\mathcal{B}\\right|}.$$\n",
        "\n",
        "\n",
        "In fact, we can consider the pixel area of any bounding box as a set of pixels.\n",
        "In this way, we can measure the similarity of the two bounding boxes by the Jaccard index of their pixel sets. For two bounding boxes, we usually refer their Jaccard index as *intersection over union* (*IoU*), which is the ratio of their intersection area to their union area, as shown in :numref:`fig_iou`.\n",
        "The range of an IoU is between 0 and 1:\n",
        "0 means that two bounding boxes do not overlap at all,\n",
        "while 1 indicates that the two bounding boxes are equal.\n",
        "\n",
        "![IoU is the ratio of the intersection area to the union area of two bounding boxes.](http://d2l.ai/_images/iou.svg)\n",
        ":label:`fig_iou`\n",
        "\n",
        "For the remainder of this section, we will use IoU to measure the similarity between anchor boxes and ground-truth bounding boxes, and between different anchor boxes.\n",
        "Given two lists of anchor or bounding boxes,\n",
        "the following `box_iou` computes their pairwise IoU\n",
        "across these two lists.\n"
      ]
    },
    {
      "cell_type": "code",
      "execution_count": 7,
      "id": "ed9ef04d",
      "metadata": {
        "execution": {
          "iopub.execute_input": "2023-08-18T19:32:44.377494Z",
          "iopub.status.busy": "2023-08-18T19:32:44.376956Z",
          "iopub.status.idle": "2023-08-18T19:32:44.384235Z",
          "shell.execute_reply": "2023-08-18T19:32:44.382935Z"
        },
        "origin_pos": 17,
        "tab": [
          "pytorch"
        ],
        "id": "ed9ef04d"
      },
      "outputs": [],
      "source": [
        "\n",
        "def box_iou(boxes1, boxes2):\n",
        "    \"\"\"Compute pairwise IoU across two lists of anchor or bounding boxes.\"\"\"\n",
        "    box_area = lambda boxes: ((boxes[:, 2] - boxes[:, 0]) *\n",
        "                              (boxes[:, 3] - boxes[:, 1]))\n",
        "    # Shape of `boxes1`, `boxes2`, `areas1`, `areas2`: (no. of boxes1, 4),\n",
        "    # (no. of boxes2, 4), (no. of boxes1,), (no. of boxes2,)\n",
        "    areas1 = box_area(boxes1)\n",
        "    areas2 = box_area(boxes2)\n",
        "    # Shape of `inter_upperlefts`, `inter_lowerrights`, `inters`: (no. of\n",
        "    # boxes1, no. of boxes2, 2)\n",
        "    inter_upperlefts = torch.max(boxes1[:, None, :2], boxes2[:, :2])\n",
        "    inter_lowerrights = torch.min(boxes1[:, None, 2:], boxes2[:, 2:])\n",
        "    inters = (inter_lowerrights - inter_upperlefts).clamp(min=0)\n",
        "    # Shape of `inter_areas` and `union_areas`: (no. of boxes1, no. of boxes2)\n",
        "    inter_areas = inters[:, :, 0] * inters[:, :, 1]\n",
        "    union_areas = areas1[:, None] + areas2 - inter_areas\n",
        "    return inter_areas / union_areas"
      ]
    },
    {
      "cell_type": "markdown",
      "id": "b9319f82",
      "metadata": {
        "origin_pos": 18,
        "id": "b9319f82"
      },
      "source": [
        "## Labeling Anchor Boxes in Training Data\n",
        ":label:`subsec_labeling-anchor-boxes`\n",
        "\n",
        "\n",
        "In a training dataset,\n",
        "we consider each anchor box as a training example.\n",
        "In order to train an object detection model,\n",
        "we need *class* and *offset* labels for each anchor box,\n",
        "where the former is\n",
        "the class of the object relevant to the anchor box\n",
        "and the latter is the offset\n",
        "of the ground-truth bounding box relative to the anchor box.\n",
        "During the prediction,\n",
        "for each image\n",
        "we generate multiple anchor boxes,\n",
        "predict classes and offsets for all the anchor boxes,\n",
        "adjust their positions according to the predicted offsets to obtain the predicted bounding boxes,\n",
        "and finally only output those\n",
        "predicted bounding boxes that satisfy certain criteria.\n",
        "\n",
        "\n",
        "As we know, an object detection training set\n",
        "comes with labels for\n",
        "locations of *ground-truth bounding boxes*\n",
        "and classes of their surrounded objects.\n",
        "To label any generated *anchor box*,\n",
        "we refer to the labeled\n",
        "location and class of its *assigned* ground-truth bounding box that is closest to the anchor box.\n",
        "In the following,\n",
        "we describe an algorithm for assigning\n",
        "closest ground-truth bounding boxes to anchor boxes.\n",
        "\n",
        "### [**Assigning Ground-Truth Bounding Boxes to Anchor Boxes**]\n",
        "\n",
        "Given an image,\n",
        "suppose that the anchor boxes are $A_1, A_2, \\ldots, A_{n_a}$ and the ground-truth bounding boxes are $B_1, B_2, \\ldots, B_{n_b}$, where $n_a \\geq n_b$.\n",
        "Let's define a matrix $\\mathbf{X} \\in \\mathbb{R}^{n_a \\times n_b}$, whose element $x_{ij}$ in the $i^\\textrm{th}$ row and $j^\\textrm{th}$ column is the IoU of the anchor box $A_i$ and the ground-truth bounding box $B_j$. The algorithm consists of the following steps:\n",
        "\n",
        "1. Find the largest element in matrix $\\mathbf{X}$ and denote its row and column indices as $i_1$ and $j_1$, respectively. Then the ground-truth bounding box $B_{j_1}$ is assigned to the anchor box $A_{i_1}$. This is quite intuitive because $A_{i_1}$ and $B_{j_1}$ are the closest among all the pairs of anchor boxes and ground-truth bounding boxes. After the first assignment, discard all the elements in the ${i_1}^\\textrm{th}$ row and the ${j_1}^\\textrm{th}$ column in matrix $\\mathbf{X}$.\n",
        "1. Find the largest of the remaining elements in matrix $\\mathbf{X}$ and denote its row and column indices as $i_2$ and $j_2$, respectively. We assign ground-truth bounding box $B_{j_2}$ to anchor box $A_{i_2}$ and discard all the elements in the ${i_2}^\\textrm{th}$ row and the ${j_2}^\\textrm{th}$ column in matrix $\\mathbf{X}$.\n",
        "1. At this point, elements in two rows and two columns in  matrix $\\mathbf{X}$ have been discarded. We proceed until all elements in $n_b$ columns in matrix $\\mathbf{X}$ are discarded. At this time, we have assigned a ground-truth bounding box to each of $n_b$ anchor boxes.\n",
        "1. Only traverse through the remaining $n_a - n_b$ anchor boxes. For example, given any anchor box $A_i$, find the ground-truth bounding box $B_j$ with the largest IoU with $A_i$ throughout the $i^\\textrm{th}$ row of matrix $\\mathbf{X}$, and assign $B_j$ to $A_i$ only if this IoU is greater than a predefined threshold.\n",
        "\n",
        "Let's illustrate the above algorithm using a concrete\n",
        "example.\n",
        "As shown in :numref:`fig_anchor_label` (left), assuming that the maximum value in matrix $\\mathbf{X}$ is $x_{23}$, we assign the ground-truth bounding box $B_3$ to the anchor box $A_2$.\n",
        "Then, we discard all the elements in row 2 and column 3 of the matrix, find the largest $x_{71}$ in the remaining  elements (shaded area), and assign the ground-truth bounding box $B_1$ to the anchor box $A_7$.\n",
        "Next, as shown in :numref:`fig_anchor_label` (middle), discard all the elements in row 7 and column 1 of the matrix, find the largest $x_{54}$ in the remaining  elements (shaded area), and assign the ground-truth bounding box $B_4$ to the anchor box $A_5$.\n",
        "Finally, as shown in :numref:`fig_anchor_label` (right), discard all the elements in row 5 and column 4 of the matrix, find the largest $x_{92}$ in the remaining elements (shaded area), and assign the ground-truth bounding box $B_2$ to the anchor box $A_9$.\n",
        "After that, we only need to traverse through\n",
        "the remaining anchor boxes $A_1, A_3, A_4, A_6, A_8$ and determine whether to assign them ground-truth bounding boxes according to the threshold.\n",
        "\n",
        "![Assigning ground-truth bounding boxes to anchor boxes.](https://github.com/d2l-ai/d2l-pytorch-colab/blob/master/img/anchor-label.svg?raw=1)\n",
        ":label:`fig_anchor_label`\n",
        "\n",
        "This algorithm is implemented in the following `assign_anchor_to_bbox` function.\n"
      ]
    },
    {
      "cell_type": "code",
      "execution_count": 8,
      "id": "50237ceb",
      "metadata": {
        "execution": {
          "iopub.execute_input": "2023-08-18T19:32:44.388937Z",
          "iopub.status.busy": "2023-08-18T19:32:44.388033Z",
          "iopub.status.idle": "2023-08-18T19:32:44.397131Z",
          "shell.execute_reply": "2023-08-18T19:32:44.395737Z"
        },
        "origin_pos": 20,
        "tab": [
          "pytorch"
        ],
        "id": "50237ceb"
      },
      "outputs": [],
      "source": [
        "\n",
        "def assign_anchor_to_bbox(ground_truth, anchors, device, iou_threshold=0.5):\n",
        "    \"\"\"Assign closest ground-truth bounding boxes to anchor boxes.\"\"\"\n",
        "    num_anchors, num_gt_boxes = anchors.shape[0], ground_truth.shape[0]\n",
        "    # Element x_ij in the i-th row and j-th column is the IoU of the anchor\n",
        "    # box i and the ground-truth bounding box j\n",
        "    jaccard = box_iou(anchors, ground_truth)\n",
        "    # Initialize the tensor to hold the assigned ground-truth bounding box for\n",
        "    # each anchor\n",
        "    anchors_bbox_map = torch.full((num_anchors,), -1, dtype=torch.long,\n",
        "                                  device=device)\n",
        "    # Assign ground-truth bounding boxes according to the threshold\n",
        "    max_ious, indices = torch.max(jaccard, dim=1)\n",
        "    anc_i = torch.nonzero(max_ious >= iou_threshold).reshape(-1)\n",
        "    box_j = indices[max_ious >= iou_threshold]\n",
        "    anchors_bbox_map[anc_i] = box_j\n",
        "    col_discard = torch.full((num_anchors,), -1)\n",
        "    row_discard = torch.full((num_gt_boxes,), -1)\n",
        "    for _ in range(num_gt_boxes):\n",
        "        max_idx = torch.argmax(jaccard)  # Find the largest IoU\n",
        "        box_idx = (max_idx % num_gt_boxes).long()\n",
        "        anc_idx = (max_idx / num_gt_boxes).long()\n",
        "        anchors_bbox_map[anc_idx] = box_idx\n",
        "        jaccard[:, box_idx] = col_discard\n",
        "        jaccard[anc_idx, :] = row_discard\n",
        "    return anchors_bbox_map"
      ]
    },
    {
      "cell_type": "markdown",
      "id": "33dea689",
      "metadata": {
        "origin_pos": 21,
        "id": "33dea689"
      },
      "source": [
        "### Labeling Classes and Offsets\n",
        "\n",
        "Now we can label the class and offset for each anchor box. Suppose that an anchor box $A$ is assigned\n",
        "a ground-truth bounding box $B$.\n",
        "On the one hand,\n",
        "the class of the anchor box $A$ will be\n",
        "labeled as that of $B$.\n",
        "On the other hand,\n",
        "the offset of the anchor box $A$\n",
        "will be labeled according to the\n",
        "relative position between\n",
        "the central coordinates of $B$ and $A$\n",
        "together with the relative size between\n",
        "these two boxes.\n",
        "Given varying\n",
        "positions and sizes of different boxes in the dataset,\n",
        "we can apply transformations\n",
        "to those relative positions and sizes\n",
        "that may lead to\n",
        "more uniformly distributed offsets\n",
        "that are easier to fit.\n",
        "Here we describe a common transformation.\n",
        "[**Given the central coordinates of $A$ and $B$ as $(x_a, y_a)$ and $(x_b, y_b)$,\n",
        "their widths as $w_a$ and $w_b$,\n",
        "and their heights as $h_a$ and $h_b$, respectively.\n",
        "We may label the offset of $A$ as\n",
        "\n",
        "$$\\left( \\frac{ \\frac{x_b - x_a}{w_a} - \\mu_x }{\\sigma_x},\n",
        "\\frac{ \\frac{y_b - y_a}{h_a} - \\mu_y }{\\sigma_y},\n",
        "\\frac{ \\log \\frac{w_b}{w_a} - \\mu_w }{\\sigma_w},\n",
        "\\frac{ \\log \\frac{h_b}{h_a} - \\mu_h }{\\sigma_h}\\right),$$\n",
        "**]\n",
        "where default values of the constants are $\\mu_x = \\mu_y = \\mu_w = \\mu_h = 0, \\sigma_x=\\sigma_y=0.1$, and $\\sigma_w=\\sigma_h=0.2$.\n",
        "This transformation is implemented below in the `offset_boxes` function.\n"
      ]
    },
    {
      "cell_type": "code",
      "execution_count": 9,
      "id": "555ef063",
      "metadata": {
        "execution": {
          "iopub.execute_input": "2023-08-18T19:32:44.401240Z",
          "iopub.status.busy": "2023-08-18T19:32:44.400631Z",
          "iopub.status.idle": "2023-08-18T19:32:44.406150Z",
          "shell.execute_reply": "2023-08-18T19:32:44.405146Z"
        },
        "origin_pos": 22,
        "tab": [
          "pytorch"
        ],
        "id": "555ef063"
      },
      "outputs": [],
      "source": [
        "\n",
        "def offset_boxes(anchors, assigned_bb, eps=1e-6):\n",
        "    \"\"\"Transform for anchor box offsets.\"\"\"\n",
        "    c_anc = d2l.box_corner_to_center(anchors)\n",
        "    c_assigned_bb = d2l.box_corner_to_center(assigned_bb)\n",
        "    offset_xy = 10 * (c_assigned_bb[:, :2] - c_anc[:, :2]) / c_anc[:, 2:]\n",
        "    offset_wh = 5 * torch.log(eps + c_assigned_bb[:, 2:] / c_anc[:, 2:])\n",
        "    offset = torch.cat([offset_xy, offset_wh], axis=1)\n",
        "    return offset"
      ]
    },
    {
      "cell_type": "markdown",
      "id": "0b2350cd",
      "metadata": {
        "origin_pos": 23,
        "id": "0b2350cd"
      },
      "source": [
        "If an anchor box is not assigned a ground-truth bounding box, we just label the class of the anchor box as \"background\".\n",
        "Anchor boxes whose classes are background are often referred to as *negative* anchor boxes,\n",
        "and the rest are called *positive* anchor boxes.\n",
        "We implement the following `multibox_target` function\n",
        "to [**label classes and offsets for anchor boxes**] (the `anchors` argument) using ground-truth bounding boxes (the `labels` argument).\n",
        "This function sets the background class to zero and increments the integer index of a new class by one.\n"
      ]
    },
    {
      "cell_type": "code",
      "execution_count": 10,
      "id": "16d715d6",
      "metadata": {
        "execution": {
          "iopub.execute_input": "2023-08-18T19:32:44.410237Z",
          "iopub.status.busy": "2023-08-18T19:32:44.409587Z",
          "iopub.status.idle": "2023-08-18T19:32:44.420196Z",
          "shell.execute_reply": "2023-08-18T19:32:44.419115Z"
        },
        "origin_pos": 25,
        "tab": [
          "pytorch"
        ],
        "id": "16d715d6"
      },
      "outputs": [],
      "source": [
        "\n",
        "def multibox_target(anchors, labels):\n",
        "    \"\"\"Label anchor boxes using ground-truth bounding boxes.\"\"\"\n",
        "    batch_size, anchors = labels.shape[0], anchors.squeeze(0)\n",
        "    batch_offset, batch_mask, batch_class_labels = [], [], []\n",
        "    device, num_anchors = anchors.device, anchors.shape[0]\n",
        "    for i in range(batch_size):\n",
        "        label = labels[i, :, :]\n",
        "        anchors_bbox_map = assign_anchor_to_bbox(\n",
        "            label[:, 1:], anchors, device)\n",
        "        bbox_mask = ((anchors_bbox_map >= 0).float().unsqueeze(-1)).repeat(\n",
        "            1, 4)\n",
        "        # Initialize class labels and assigned bounding box coordinates with\n",
        "        # zeros\n",
        "        class_labels = torch.zeros(num_anchors, dtype=torch.long,\n",
        "                                   device=device)\n",
        "        assigned_bb = torch.zeros((num_anchors, 4), dtype=torch.float32,\n",
        "                                  device=device)\n",
        "        # Label classes of anchor boxes using their assigned ground-truth\n",
        "        # bounding boxes. If an anchor box is not assigned any, we label its\n",
        "        # class as background (the value remains zero)\n",
        "        indices_true = torch.nonzero(anchors_bbox_map >= 0)\n",
        "        bb_idx = anchors_bbox_map[indices_true]\n",
        "        class_labels[indices_true] = label[bb_idx, 0].long() + 1\n",
        "        assigned_bb[indices_true] = label[bb_idx, 1:]\n",
        "        # Offset transformation\n",
        "        offset = offset_boxes(anchors, assigned_bb) * bbox_mask\n",
        "        batch_offset.append(offset.reshape(-1))\n",
        "        batch_mask.append(bbox_mask.reshape(-1))\n",
        "        batch_class_labels.append(class_labels)\n",
        "    bbox_offset = torch.stack(batch_offset)\n",
        "    bbox_mask = torch.stack(batch_mask)\n",
        "    class_labels = torch.stack(batch_class_labels)\n",
        "    return (bbox_offset, bbox_mask, class_labels)"
      ]
    },
    {
      "cell_type": "markdown",
      "id": "72e3f6fd",
      "metadata": {
        "origin_pos": 26,
        "id": "72e3f6fd"
      },
      "source": [
        "### An Example\n",
        "\n",
        "Let's illustrate anchor box labeling\n",
        "via a concrete example.\n",
        "We define ground-truth bounding boxes for the dog and cat in the loaded image,\n",
        "where the first element is the class (0 for dog and 1 for cat) and the remaining four elements are the\n",
        "$(x, y)$-axis coordinates\n",
        "at the upper-left corner and the lower-right corner\n",
        "(range is between 0 and 1).\n",
        "We also construct five anchor boxes to be labeled\n",
        "using the coordinates of\n",
        "the upper-left corner and the lower-right corner:\n",
        "$A_0, \\ldots, A_4$ (the index starts from 0).\n",
        "Then we [**plot these ground-truth bounding boxes\n",
        "and anchor boxes\n",
        "in the image.**]\n"
      ]
    },
    {
      "cell_type": "code",
      "execution_count": 11,
      "id": "5241a5a4",
      "metadata": {
        "execution": {
          "iopub.execute_input": "2023-08-18T19:32:44.424500Z",
          "iopub.status.busy": "2023-08-18T19:32:44.423804Z",
          "iopub.status.idle": "2023-08-18T19:32:44.818235Z",
          "shell.execute_reply": "2023-08-18T19:32:44.817279Z"
        },
        "origin_pos": 27,
        "tab": [
          "pytorch"
        ],
        "id": "5241a5a4",
        "outputId": "9bdd67ba-4db2-4685-ace9-217911598f32",
        "colab": {
          "base_uri": "https://localhost:8080/",
          "height": 211
        }
      },
      "outputs": [
        {
          "output_type": "error",
          "ename": "NameError",
          "evalue": "name 'img' is not defined",
          "traceback": [
            "\u001b[0;31m---------------------------------------------------------------------------\u001b[0m",
            "\u001b[0;31mNameError\u001b[0m                                 Traceback (most recent call last)",
            "\u001b[0;32m<ipython-input-11-313b3b514262>\u001b[0m in \u001b[0;36m<cell line: 0>\u001b[0;34m()\u001b[0m\n\u001b[1;32m      5\u001b[0m                     [0.57, 0.3, 0.92, 0.9]])\n\u001b[1;32m      6\u001b[0m \u001b[0;34m\u001b[0m\u001b[0m\n\u001b[0;32m----> 7\u001b[0;31m \u001b[0mfig\u001b[0m \u001b[0;34m=\u001b[0m \u001b[0md2l\u001b[0m\u001b[0;34m.\u001b[0m\u001b[0mplt\u001b[0m\u001b[0;34m.\u001b[0m\u001b[0mimshow\u001b[0m\u001b[0;34m(\u001b[0m\u001b[0mimg\u001b[0m\u001b[0;34m)\u001b[0m\u001b[0;34m\u001b[0m\u001b[0;34m\u001b[0m\u001b[0m\n\u001b[0m\u001b[1;32m      8\u001b[0m \u001b[0mshow_bboxes\u001b[0m\u001b[0;34m(\u001b[0m\u001b[0mfig\u001b[0m\u001b[0;34m.\u001b[0m\u001b[0maxes\u001b[0m\u001b[0;34m,\u001b[0m \u001b[0mground_truth\u001b[0m\u001b[0;34m[\u001b[0m\u001b[0;34m:\u001b[0m\u001b[0;34m,\u001b[0m \u001b[0;36m1\u001b[0m\u001b[0;34m:\u001b[0m\u001b[0;34m]\u001b[0m \u001b[0;34m*\u001b[0m \u001b[0mbbox_scale\u001b[0m\u001b[0;34m,\u001b[0m \u001b[0;34m[\u001b[0m\u001b[0;34m'dog'\u001b[0m\u001b[0;34m,\u001b[0m \u001b[0;34m'cat'\u001b[0m\u001b[0;34m]\u001b[0m\u001b[0;34m,\u001b[0m \u001b[0;34m'k'\u001b[0m\u001b[0;34m)\u001b[0m\u001b[0;34m\u001b[0m\u001b[0;34m\u001b[0m\u001b[0m\n\u001b[1;32m      9\u001b[0m \u001b[0mshow_bboxes\u001b[0m\u001b[0;34m(\u001b[0m\u001b[0mfig\u001b[0m\u001b[0;34m.\u001b[0m\u001b[0maxes\u001b[0m\u001b[0;34m,\u001b[0m \u001b[0manchors\u001b[0m \u001b[0;34m*\u001b[0m \u001b[0mbbox_scale\u001b[0m\u001b[0;34m,\u001b[0m \u001b[0;34m[\u001b[0m\u001b[0;34m'0'\u001b[0m\u001b[0;34m,\u001b[0m \u001b[0;34m'1'\u001b[0m\u001b[0;34m,\u001b[0m \u001b[0;34m'2'\u001b[0m\u001b[0;34m,\u001b[0m \u001b[0;34m'3'\u001b[0m\u001b[0;34m,\u001b[0m \u001b[0;34m'4'\u001b[0m\u001b[0;34m]\u001b[0m\u001b[0;34m)\u001b[0m\u001b[0;34m;\u001b[0m\u001b[0;34m\u001b[0m\u001b[0;34m\u001b[0m\u001b[0m\n",
            "\u001b[0;31mNameError\u001b[0m: name 'img' is not defined"
          ]
        }
      ],
      "source": [
        "ground_truth = torch.tensor([[0, 0.1, 0.08, 0.52, 0.92],\n",
        "                         [1, 0.55, 0.2, 0.9, 0.88]])\n",
        "anchors = torch.tensor([[0, 0.1, 0.2, 0.3], [0.15, 0.2, 0.4, 0.4],\n",
        "                    [0.63, 0.05, 0.88, 0.98], [0.66, 0.45, 0.8, 0.8],\n",
        "                    [0.57, 0.3, 0.92, 0.9]])\n",
        "\n",
        "fig = d2l.plt.imshow(img)\n",
        "show_bboxes(fig.axes, ground_truth[:, 1:] * bbox_scale, ['dog', 'cat'], 'k')\n",
        "show_bboxes(fig.axes, anchors * bbox_scale, ['0', '1', '2', '3', '4']);"
      ]
    },
    {
      "cell_type": "markdown",
      "id": "859e6d02",
      "metadata": {
        "origin_pos": 28,
        "id": "859e6d02"
      },
      "source": [
        "Using the `multibox_target` function defined above,\n",
        "we can [**label classes and offsets\n",
        "of these anchor boxes based on\n",
        "the ground-truth bounding boxes**] for the dog and cat.\n",
        "In this example, indices of\n",
        "the background, dog, and cat classes\n",
        "are 0, 1, and 2, respectively.\n",
        "Below we add an dimension for examples of anchor boxes and ground-truth bounding boxes.\n"
      ]
    },
    {
      "cell_type": "code",
      "execution_count": 12,
      "id": "eef7a533",
      "metadata": {
        "execution": {
          "iopub.execute_input": "2023-08-18T19:32:44.823015Z",
          "iopub.status.busy": "2023-08-18T19:32:44.822274Z",
          "iopub.status.idle": "2023-08-18T19:32:44.829943Z",
          "shell.execute_reply": "2023-08-18T19:32:44.828956Z"
        },
        "origin_pos": 30,
        "tab": [
          "pytorch"
        ],
        "id": "eef7a533"
      },
      "outputs": [],
      "source": [
        "labels = multibox_target(anchors.unsqueeze(dim=0),\n",
        "                         ground_truth.unsqueeze(dim=0))"
      ]
    },
    {
      "cell_type": "markdown",
      "id": "659b4b07",
      "metadata": {
        "origin_pos": 31,
        "id": "659b4b07"
      },
      "source": [
        "There are three items in the returned result, all of which are in the tensor format.\n",
        "The third item contains the labeled classes of the input anchor boxes.\n",
        "\n",
        "Let's analyze the returned class labels below based on\n",
        "anchor box and ground-truth bounding box positions in the image.\n",
        "First, among all the pairs of anchor boxes\n",
        "and ground-truth bounding boxes,\n",
        "the IoU of the anchor box $A_4$ and the ground-truth bounding box of the cat is the largest.\n",
        "Thus, the class of $A_4$ is labeled as the cat.\n",
        "Taking out\n",
        "pairs containing $A_4$ or the ground-truth bounding box of the cat, among the rest\n",
        "the pair of the anchor box $A_1$ and the ground-truth bounding box of the dog has the largest IoU.\n",
        "So the class of $A_1$ is labeled as the dog.\n",
        "Next, we need to traverse through the remaining three unlabeled anchor boxes: $A_0$, $A_2$, and $A_3$.\n",
        "For $A_0$,\n",
        "the class of the ground-truth bounding box with the largest IoU is the dog,\n",
        "but the IoU is below the predefined threshold (0.5),\n",
        "so the class is labeled as background;\n",
        "for $A_2$,\n",
        "the class of the ground-truth bounding box with the largest IoU is the cat and the IoU exceeds the threshold, so the class is labeled as the cat;\n",
        "for $A_3$,\n",
        "the class of the ground-truth bounding box with the largest IoU is the cat, but the value is below the threshold, so the class is labeled as background.\n"
      ]
    },
    {
      "cell_type": "code",
      "execution_count": 13,
      "id": "27063d40",
      "metadata": {
        "execution": {
          "iopub.execute_input": "2023-08-18T19:32:44.834163Z",
          "iopub.status.busy": "2023-08-18T19:32:44.833548Z",
          "iopub.status.idle": "2023-08-18T19:32:44.840313Z",
          "shell.execute_reply": "2023-08-18T19:32:44.839244Z"
        },
        "origin_pos": 32,
        "tab": [
          "pytorch"
        ],
        "id": "27063d40",
        "outputId": "9e50741d-8211-46eb-b4d2-2ea53ae5c123",
        "colab": {
          "base_uri": "https://localhost:8080/"
        }
      },
      "outputs": [
        {
          "output_type": "execute_result",
          "data": {
            "text/plain": [
              "tensor([[0, 1, 2, 0, 2]])"
            ]
          },
          "metadata": {},
          "execution_count": 13
        }
      ],
      "source": [
        "labels[2]"
      ]
    },
    {
      "cell_type": "markdown",
      "id": "531133d8",
      "metadata": {
        "origin_pos": 33,
        "id": "531133d8"
      },
      "source": [
        "The second returned item is a mask variable of the shape (batch size, four times the number of anchor boxes).\n",
        "Every four elements in the mask variable\n",
        "correspond to the four offset values of each anchor box.\n",
        "Since we do not care about background detection,\n",
        "offsets of this negative class should not affect the objective function.\n",
        "Through elementwise multiplications, zeros in the mask variable will filter out negative class offsets before calculating the objective function.\n"
      ]
    },
    {
      "cell_type": "code",
      "execution_count": 14,
      "id": "0b55433b",
      "metadata": {
        "execution": {
          "iopub.execute_input": "2023-08-18T19:32:44.844357Z",
          "iopub.status.busy": "2023-08-18T19:32:44.843744Z",
          "iopub.status.idle": "2023-08-18T19:32:44.850721Z",
          "shell.execute_reply": "2023-08-18T19:32:44.849660Z"
        },
        "origin_pos": 34,
        "tab": [
          "pytorch"
        ],
        "id": "0b55433b",
        "outputId": "c32702e9-45a2-4b33-8abc-357ee43bd520",
        "colab": {
          "base_uri": "https://localhost:8080/"
        }
      },
      "outputs": [
        {
          "output_type": "execute_result",
          "data": {
            "text/plain": [
              "tensor([[0., 0., 0., 0., 1., 1., 1., 1., 1., 1., 1., 1., 0., 0., 0., 0., 1., 1.,\n",
              "         1., 1.]])"
            ]
          },
          "metadata": {},
          "execution_count": 14
        }
      ],
      "source": [
        "labels[1]"
      ]
    },
    {
      "cell_type": "markdown",
      "id": "bf0fa161",
      "metadata": {
        "origin_pos": 35,
        "id": "bf0fa161"
      },
      "source": [
        "The first returned item contains the four offset values labeled for each anchor box.\n",
        "Note that the offsets of negative-class anchor boxes are labeled as zeros.\n"
      ]
    },
    {
      "cell_type": "code",
      "execution_count": 15,
      "id": "3ce74d8f",
      "metadata": {
        "execution": {
          "iopub.execute_input": "2023-08-18T19:32:44.854664Z",
          "iopub.status.busy": "2023-08-18T19:32:44.854067Z",
          "iopub.status.idle": "2023-08-18T19:32:44.861006Z",
          "shell.execute_reply": "2023-08-18T19:32:44.859933Z"
        },
        "origin_pos": 36,
        "tab": [
          "pytorch"
        ],
        "id": "3ce74d8f",
        "outputId": "cfc1ca06-967a-4022-d494-10481913f6ef",
        "colab": {
          "base_uri": "https://localhost:8080/"
        }
      },
      "outputs": [
        {
          "output_type": "execute_result",
          "data": {
            "text/plain": [
              "tensor([[-0.00e+00, -0.00e+00, -0.00e+00, -0.00e+00,  1.40e+00,  1.00e+01,\n",
              "          2.59e+00,  7.18e+00, -1.20e+00,  2.69e-01,  1.68e+00, -1.57e+00,\n",
              "         -0.00e+00, -0.00e+00, -0.00e+00, -0.00e+00, -5.71e-01, -1.00e+00,\n",
              "          4.17e-06,  6.26e-01]])"
            ]
          },
          "metadata": {},
          "execution_count": 15
        }
      ],
      "source": [
        "labels[0]"
      ]
    },
    {
      "cell_type": "markdown",
      "id": "19bd3831",
      "metadata": {
        "origin_pos": 37,
        "id": "19bd3831"
      },
      "source": [
        "## Predicting Bounding Boxes with Non-Maximum Suppression\n",
        ":label:`subsec_predicting-bounding-boxes-nms`\n",
        "\n",
        "During prediction,\n",
        "we generate multiple anchor boxes for the image and predict classes and offsets for each of them.\n",
        "A *predicted bounding box*\n",
        "is thus obtained according to\n",
        "an anchor box with its predicted offset.\n",
        "Below we implement the `offset_inverse` function\n",
        "that takes in anchors and\n",
        "offset predictions as inputs and [**applies inverse offset transformations to\n",
        "return the predicted bounding box coordinates**].\n"
      ]
    },
    {
      "cell_type": "code",
      "execution_count": 16,
      "id": "2aa3364b",
      "metadata": {
        "execution": {
          "iopub.execute_input": "2023-08-18T19:32:44.865010Z",
          "iopub.status.busy": "2023-08-18T19:32:44.864433Z",
          "iopub.status.idle": "2023-08-18T19:32:44.870968Z",
          "shell.execute_reply": "2023-08-18T19:32:44.869955Z"
        },
        "origin_pos": 38,
        "tab": [
          "pytorch"
        ],
        "id": "2aa3364b"
      },
      "outputs": [],
      "source": [
        "\n",
        "def offset_inverse(anchors, offset_preds):\n",
        "    \"\"\"Predict bounding boxes based on anchor boxes with predicted offsets.\"\"\"\n",
        "    anc = d2l.box_corner_to_center(anchors)\n",
        "    pred_bbox_xy = (offset_preds[:, :2] * anc[:, 2:] / 10) + anc[:, :2]\n",
        "    pred_bbox_wh = torch.exp(offset_preds[:, 2:] / 5) * anc[:, 2:]\n",
        "    pred_bbox = torch.cat((pred_bbox_xy, pred_bbox_wh), axis=1)\n",
        "    predicted_bbox = d2l.box_center_to_corner(pred_bbox)\n",
        "    return predicted_bbox"
      ]
    },
    {
      "cell_type": "markdown",
      "id": "62a0332a",
      "metadata": {
        "origin_pos": 39,
        "id": "62a0332a"
      },
      "source": [
        "When there are many anchor boxes,\n",
        "many similar (with significant overlap)\n",
        "predicted bounding boxes\n",
        "can be potentially output for surrounding the same object.\n",
        "To simplify the output,\n",
        "we can merge similar predicted bounding boxes\n",
        "that belong to the same object\n",
        "by using *non-maximum suppression* (NMS).\n",
        "\n",
        "Here is how non-maximum suppression works.\n",
        "For a predicted bounding box $B$,\n",
        "the object detection model calculates the predicted likelihood\n",
        "for each class.\n",
        "Denoting by $p$ the largest predicted likelihood,\n",
        "the class corresponding to this probability is the predicted class for $B$.\n",
        "Specifically, we refer to $p$ as the *confidence* (score) of the predicted bounding box $B$.\n",
        "On the same image,\n",
        "all the predicted non-background bounding boxes\n",
        "are sorted by confidence in descending order\n",
        "to generate a list $L$.\n",
        "Then we manipulate the sorted list $L$ in the following steps:\n",
        "\n",
        "1. Select the predicted bounding box $B_1$ with the highest confidence from $L$ as a basis and remove all non-basis predicted bounding boxes whose IoU with $B_1$ exceeds a predefined threshold $\\epsilon$ from $L$. At this point, $L$ keeps the predicted bounding box with the highest confidence but drops others that are too similar to it. In a nutshell, those with *non-maximum* confidence scores are *suppressed*.\n",
        "1. Select the predicted bounding box $B_2$ with the second highest confidence from $L$ as another basis and remove all non-basis predicted bounding boxes whose IoU with $B_2$ exceeds $\\epsilon$ from $L$.\n",
        "1. Repeat the above process until all the predicted bounding boxes in $L$ have been used as a basis. At this time, the IoU of any pair of predicted bounding boxes in $L$ is below the threshold $\\epsilon$; thus, no pair is too similar with each other.\n",
        "1. Output all the predicted bounding boxes in the list $L$.\n",
        "\n",
        "[**The following `nms` function sorts confidence scores in descending order and returns their indices.**]\n"
      ]
    },
    {
      "cell_type": "code",
      "execution_count": 17,
      "id": "4ab91d73",
      "metadata": {
        "execution": {
          "iopub.execute_input": "2023-08-18T19:32:44.874979Z",
          "iopub.status.busy": "2023-08-18T19:32:44.874405Z",
          "iopub.status.idle": "2023-08-18T19:32:44.881796Z",
          "shell.execute_reply": "2023-08-18T19:32:44.880768Z"
        },
        "origin_pos": 41,
        "tab": [
          "pytorch"
        ],
        "id": "4ab91d73"
      },
      "outputs": [],
      "source": [
        "\n",
        "def nms(boxes, scores, iou_threshold):\n",
        "    \"\"\"Sort confidence scores of predicted bounding boxes.\"\"\"\n",
        "    B = torch.argsort(scores, dim=-1, descending=True)\n",
        "    keep = []  # Indices of predicted bounding boxes that will be kept\n",
        "    while B.numel() > 0:\n",
        "        i = B[0]\n",
        "        keep.append(i)\n",
        "        if B.numel() == 1: break\n",
        "        iou = box_iou(boxes[i, :].reshape(-1, 4),\n",
        "                      boxes[B[1:], :].reshape(-1, 4)).reshape(-1)\n",
        "        inds = torch.nonzero(iou <= iou_threshold).reshape(-1)\n",
        "        B = B[inds + 1]\n",
        "    return torch.tensor(keep, device=boxes.device)"
      ]
    },
    {
      "cell_type": "markdown",
      "id": "c7e4726c",
      "metadata": {
        "origin_pos": 42,
        "id": "c7e4726c"
      },
      "source": [
        "We define the following `multibox_detection`\n",
        "to [**apply non-maximum suppression\n",
        "to predicting bounding boxes**].\n",
        "Do not worry if you find the implementation\n",
        "a bit complicated: we will show how it works\n",
        "with a concrete example right after the implementation.\n"
      ]
    },
    {
      "cell_type": "code",
      "execution_count": 18,
      "id": "4a5b6c3c",
      "metadata": {
        "execution": {
          "iopub.execute_input": "2023-08-18T19:32:44.885871Z",
          "iopub.status.busy": "2023-08-18T19:32:44.885083Z",
          "iopub.status.idle": "2023-08-18T19:32:44.896254Z",
          "shell.execute_reply": "2023-08-18T19:32:44.895293Z"
        },
        "origin_pos": 44,
        "tab": [
          "pytorch"
        ],
        "id": "4a5b6c3c"
      },
      "outputs": [],
      "source": [
        "\n",
        "def multibox_detection(cls_probs, offset_preds, anchors, nms_threshold=0.5,\n",
        "                       pos_threshold=0.009999999):\n",
        "    \"\"\"Predict bounding boxes using non-maximum suppression.\"\"\"\n",
        "    device, batch_size = cls_probs.device, cls_probs.shape[0]\n",
        "    anchors = anchors.squeeze(0)\n",
        "    num_classes, num_anchors = cls_probs.shape[1], cls_probs.shape[2]\n",
        "    out = []\n",
        "    for i in range(batch_size):\n",
        "        cls_prob, offset_pred = cls_probs[i], offset_preds[i].reshape(-1, 4)\n",
        "        conf, class_id = torch.max(cls_prob[1:], 0)\n",
        "        predicted_bb = offset_inverse(anchors, offset_pred)\n",
        "        keep = nms(predicted_bb, conf, nms_threshold)\n",
        "        # Find all non-`keep` indices and set the class to background\n",
        "        all_idx = torch.arange(num_anchors, dtype=torch.long, device=device)\n",
        "        combined = torch.cat((keep, all_idx))\n",
        "        uniques, counts = combined.unique(return_counts=True)\n",
        "        non_keep = uniques[counts == 1]\n",
        "        all_id_sorted = torch.cat((keep, non_keep))\n",
        "        class_id[non_keep] = -1\n",
        "        class_id = class_id[all_id_sorted]\n",
        "        conf, predicted_bb = conf[all_id_sorted], predicted_bb[all_id_sorted]\n",
        "        # Here `pos_threshold` is a threshold for positive (non-background)\n",
        "        # predictions\n",
        "        below_min_idx = (conf < pos_threshold)\n",
        "        class_id[below_min_idx] = -1\n",
        "        conf[below_min_idx] = 1 - conf[below_min_idx]\n",
        "        pred_info = torch.cat((class_id.unsqueeze(1),\n",
        "                               conf.unsqueeze(1),\n",
        "                               predicted_bb), dim=1)\n",
        "        out.append(pred_info)\n",
        "    return torch.stack(out)"
      ]
    },
    {
      "cell_type": "markdown",
      "id": "f8738899",
      "metadata": {
        "origin_pos": 45,
        "id": "f8738899"
      },
      "source": [
        "Now let's [**apply the above implementations\n",
        "to a concrete example with four anchor boxes**].\n",
        "For simplicity, we assume that the\n",
        "predicted offsets are all zeros.\n",
        "This means that the predicted bounding boxes are anchor boxes.\n",
        "For each class among the background, dog, and cat,\n",
        "we also define its predicted likelihood.\n"
      ]
    },
    {
      "cell_type": "code",
      "execution_count": 19,
      "id": "e0fd4db5",
      "metadata": {
        "execution": {
          "iopub.execute_input": "2023-08-18T19:32:44.900401Z",
          "iopub.status.busy": "2023-08-18T19:32:44.899731Z",
          "iopub.status.idle": "2023-08-18T19:32:44.906161Z",
          "shell.execute_reply": "2023-08-18T19:32:44.905287Z"
        },
        "origin_pos": 46,
        "tab": [
          "pytorch"
        ],
        "id": "e0fd4db5"
      },
      "outputs": [],
      "source": [
        "anchors = torch.tensor([[0.1, 0.08, 0.52, 0.92], [0.08, 0.2, 0.56, 0.95],\n",
        "                      [0.15, 0.3, 0.62, 0.91], [0.55, 0.2, 0.9, 0.88]])\n",
        "offset_preds = torch.tensor([0] * anchors.numel())\n",
        "cls_probs = torch.tensor([[0] * 4,  # Predicted background likelihood\n",
        "                      [0.9, 0.8, 0.7, 0.1],  # Predicted dog likelihood\n",
        "                      [0.1, 0.2, 0.3, 0.9]])  # Predicted cat likelihood"
      ]
    },
    {
      "cell_type": "markdown",
      "id": "8da3e08d",
      "metadata": {
        "origin_pos": 47,
        "id": "8da3e08d"
      },
      "source": [
        "We can [**plot these predicted bounding boxes with their confidence on the image.**]\n"
      ]
    },
    {
      "cell_type": "code",
      "execution_count": 20,
      "id": "a6637511",
      "metadata": {
        "execution": {
          "iopub.execute_input": "2023-08-18T19:32:44.910439Z",
          "iopub.status.busy": "2023-08-18T19:32:44.909614Z",
          "iopub.status.idle": "2023-08-18T19:32:45.357943Z",
          "shell.execute_reply": "2023-08-18T19:32:45.357080Z"
        },
        "origin_pos": 48,
        "tab": [
          "pytorch"
        ],
        "id": "a6637511",
        "outputId": "37a5fb65-02ac-48f1-99e8-d67102a6dbac",
        "colab": {
          "base_uri": "https://localhost:8080/",
          "height": 176
        }
      },
      "outputs": [
        {
          "output_type": "error",
          "ename": "NameError",
          "evalue": "name 'img' is not defined",
          "traceback": [
            "\u001b[0;31m---------------------------------------------------------------------------\u001b[0m",
            "\u001b[0;31mNameError\u001b[0m                                 Traceback (most recent call last)",
            "\u001b[0;32m<ipython-input-20-7b3974f0f37e>\u001b[0m in \u001b[0;36m<cell line: 0>\u001b[0;34m()\u001b[0m\n\u001b[0;32m----> 1\u001b[0;31m \u001b[0mfig\u001b[0m \u001b[0;34m=\u001b[0m \u001b[0md2l\u001b[0m\u001b[0;34m.\u001b[0m\u001b[0mplt\u001b[0m\u001b[0;34m.\u001b[0m\u001b[0mimshow\u001b[0m\u001b[0;34m(\u001b[0m\u001b[0mimg\u001b[0m\u001b[0;34m)\u001b[0m\u001b[0;34m\u001b[0m\u001b[0;34m\u001b[0m\u001b[0m\n\u001b[0m\u001b[1;32m      2\u001b[0m show_bboxes(fig.axes, anchors * bbox_scale,\n\u001b[1;32m      3\u001b[0m             ['dog=0.9', 'dog=0.8', 'dog=0.7', 'cat=0.9'])\n",
            "\u001b[0;31mNameError\u001b[0m: name 'img' is not defined"
          ]
        }
      ],
      "source": [
        "fig = d2l.plt.imshow(img)\n",
        "show_bboxes(fig.axes, anchors * bbox_scale,\n",
        "            ['dog=0.9', 'dog=0.8', 'dog=0.7', 'cat=0.9'])"
      ]
    },
    {
      "cell_type": "markdown",
      "id": "80ee8647",
      "metadata": {
        "origin_pos": 49,
        "id": "80ee8647"
      },
      "source": [
        "Now we can invoke the `multibox_detection` function\n",
        "to perform non-maximum suppression,\n",
        "where the threshold is set to 0.5.\n",
        "Note that we add\n",
        "a dimension for examples in the tensor input.\n",
        "\n",
        "We can see that [**the shape of the returned result**] is\n",
        "(batch size, number of anchor boxes, 6).\n",
        "The six elements in the innermost dimension\n",
        "gives the output information for the same predicted bounding box.\n",
        "The first element is the predicted class index, which starts from 0 (0 is dog and 1 is cat). The value -1 indicates background or removal in non-maximum suppression.\n",
        "The second element is the confidence of the predicted bounding box.\n",
        "The remaining four elements are the $(x, y)$-axis coordinates of the upper-left corner and\n",
        "the lower-right corner of the predicted bounding box, respectively (range is between 0 and 1).\n"
      ]
    },
    {
      "cell_type": "code",
      "execution_count": 21,
      "id": "81abdaa3",
      "metadata": {
        "execution": {
          "iopub.execute_input": "2023-08-18T19:32:45.361596Z",
          "iopub.status.busy": "2023-08-18T19:32:45.360996Z",
          "iopub.status.idle": "2023-08-18T19:32:45.369505Z",
          "shell.execute_reply": "2023-08-18T19:32:45.368704Z"
        },
        "origin_pos": 51,
        "tab": [
          "pytorch"
        ],
        "id": "81abdaa3",
        "outputId": "86031bce-c357-4a20-ba92-40556cc54340",
        "colab": {
          "base_uri": "https://localhost:8080/"
        }
      },
      "outputs": [
        {
          "output_type": "execute_result",
          "data": {
            "text/plain": [
              "tensor([[[ 0.00,  0.90,  0.10,  0.08,  0.52,  0.92],\n",
              "         [ 1.00,  0.90,  0.55,  0.20,  0.90,  0.88],\n",
              "         [-1.00,  0.80,  0.08,  0.20,  0.56,  0.95],\n",
              "         [-1.00,  0.70,  0.15,  0.30,  0.62,  0.91]]])"
            ]
          },
          "metadata": {},
          "execution_count": 21
        }
      ],
      "source": [
        "output = multibox_detection(cls_probs.unsqueeze(dim=0),\n",
        "                            offset_preds.unsqueeze(dim=0),\n",
        "                            anchors.unsqueeze(dim=0),\n",
        "                            nms_threshold=0.5)\n",
        "output"
      ]
    },
    {
      "cell_type": "markdown",
      "id": "4a02fecd",
      "metadata": {
        "origin_pos": 52,
        "id": "4a02fecd"
      },
      "source": [
        "After removing those predicted bounding boxes\n",
        "of class -1,\n",
        "we can [**output the final predicted bounding box\n",
        "kept by non-maximum suppression**].\n"
      ]
    },
    {
      "cell_type": "code",
      "execution_count": 22,
      "id": "a9d97bd5",
      "metadata": {
        "execution": {
          "iopub.execute_input": "2023-08-18T19:32:45.373009Z",
          "iopub.status.busy": "2023-08-18T19:32:45.372440Z",
          "iopub.status.idle": "2023-08-18T19:32:45.667474Z",
          "shell.execute_reply": "2023-08-18T19:32:45.666054Z"
        },
        "origin_pos": 53,
        "tab": [
          "pytorch"
        ],
        "id": "a9d97bd5",
        "outputId": "ce286f17-49ac-4c7c-f3a9-4719d19f4a36",
        "colab": {
          "base_uri": "https://localhost:8080/",
          "height": 211
        }
      },
      "outputs": [
        {
          "output_type": "error",
          "ename": "NameError",
          "evalue": "name 'img' is not defined",
          "traceback": [
            "\u001b[0;31m---------------------------------------------------------------------------\u001b[0m",
            "\u001b[0;31mNameError\u001b[0m                                 Traceback (most recent call last)",
            "\u001b[0;32m<ipython-input-22-2fd7bc844fa4>\u001b[0m in \u001b[0;36m<cell line: 0>\u001b[0;34m()\u001b[0m\n\u001b[0;32m----> 1\u001b[0;31m \u001b[0mfig\u001b[0m \u001b[0;34m=\u001b[0m \u001b[0md2l\u001b[0m\u001b[0;34m.\u001b[0m\u001b[0mplt\u001b[0m\u001b[0;34m.\u001b[0m\u001b[0mimshow\u001b[0m\u001b[0;34m(\u001b[0m\u001b[0mimg\u001b[0m\u001b[0;34m)\u001b[0m\u001b[0;34m\u001b[0m\u001b[0;34m\u001b[0m\u001b[0m\n\u001b[0m\u001b[1;32m      2\u001b[0m \u001b[0;32mfor\u001b[0m \u001b[0mi\u001b[0m \u001b[0;32min\u001b[0m \u001b[0moutput\u001b[0m\u001b[0;34m[\u001b[0m\u001b[0;36m0\u001b[0m\u001b[0;34m]\u001b[0m\u001b[0;34m.\u001b[0m\u001b[0mdetach\u001b[0m\u001b[0;34m(\u001b[0m\u001b[0;34m)\u001b[0m\u001b[0;34m.\u001b[0m\u001b[0mnumpy\u001b[0m\u001b[0;34m(\u001b[0m\u001b[0;34m)\u001b[0m\u001b[0;34m:\u001b[0m\u001b[0;34m\u001b[0m\u001b[0;34m\u001b[0m\u001b[0m\n\u001b[1;32m      3\u001b[0m     \u001b[0;32mif\u001b[0m \u001b[0mi\u001b[0m\u001b[0;34m[\u001b[0m\u001b[0;36m0\u001b[0m\u001b[0;34m]\u001b[0m \u001b[0;34m==\u001b[0m \u001b[0;34m-\u001b[0m\u001b[0;36m1\u001b[0m\u001b[0;34m:\u001b[0m\u001b[0;34m\u001b[0m\u001b[0;34m\u001b[0m\u001b[0m\n\u001b[1;32m      4\u001b[0m         \u001b[0;32mcontinue\u001b[0m\u001b[0;34m\u001b[0m\u001b[0;34m\u001b[0m\u001b[0m\n\u001b[1;32m      5\u001b[0m     \u001b[0mlabel\u001b[0m \u001b[0;34m=\u001b[0m \u001b[0;34m(\u001b[0m\u001b[0;34m'dog='\u001b[0m\u001b[0;34m,\u001b[0m \u001b[0;34m'cat='\u001b[0m\u001b[0;34m)\u001b[0m\u001b[0;34m[\u001b[0m\u001b[0mint\u001b[0m\u001b[0;34m(\u001b[0m\u001b[0mi\u001b[0m\u001b[0;34m[\u001b[0m\u001b[0;36m0\u001b[0m\u001b[0;34m]\u001b[0m\u001b[0;34m)\u001b[0m\u001b[0;34m]\u001b[0m \u001b[0;34m+\u001b[0m \u001b[0mstr\u001b[0m\u001b[0;34m(\u001b[0m\u001b[0mi\u001b[0m\u001b[0;34m[\u001b[0m\u001b[0;36m1\u001b[0m\u001b[0;34m]\u001b[0m\u001b[0;34m)\u001b[0m\u001b[0;34m\u001b[0m\u001b[0;34m\u001b[0m\u001b[0m\n",
            "\u001b[0;31mNameError\u001b[0m: name 'img' is not defined"
          ]
        }
      ],
      "source": [
        "fig = d2l.plt.imshow(img)\n",
        "for i in output[0].detach().numpy():\n",
        "    if i[0] == -1:\n",
        "        continue\n",
        "    label = ('dog=', 'cat=')[int(i[0])] + str(i[1])\n",
        "    show_bboxes(fig.axes, [torch.tensor(i[2:]) * bbox_scale], label)"
      ]
    },
    {
      "cell_type": "markdown",
      "id": "5fe8a95c",
      "metadata": {
        "origin_pos": 54,
        "id": "5fe8a95c"
      },
      "source": [
        "In practice, we can remove predicted bounding boxes with lower confidence even before performing non-maximum suppression, thereby reducing computation in this algorithm.\n",
        "We may also post-process the output of non-maximum suppression, for example, by only keeping\n",
        "results with higher confidence\n",
        "in the final output.\n",
        "\n",
        "\n",
        "## Summary\n",
        "\n",
        "* We generate anchor boxes with different shapes centered on each pixel of the image.\n",
        "* Intersection over union (IoU), also known as Jaccard index, measures the similarity of two bounding boxes. It is the ratio of their intersection area to their union area.\n",
        "* In a training set, we need two types of labels for each anchor box. One is the class of the object relevant to the anchor box and the other is the offset of the ground-truth bounding box relative to the anchor box.\n",
        "* During prediction, we can use non-maximum suppression (NMS) to remove similar predicted bounding boxes, thereby simplifying the output.\n",
        "\n",
        "\n",
        "## Exercises\n",
        "\n",
        "1. Change values of `sizes` and `ratios` in the `multibox_prior` function. What are the changes to the generated anchor boxes?\n",
        "1. Construct and visualize two bounding boxes with an IoU of 0.5. How do they overlap with each other?\n",
        "1. Modify the variable `anchors` in :numref:`subsec_labeling-anchor-boxes` and :numref:`subsec_predicting-bounding-boxes-nms`. How do the results change?\n",
        "1. Non-maximum suppression is a greedy algorithm that suppresses predicted bounding boxes by *removing* them. Is it possible that some of these removed ones are actually useful? How can this algorithm be modified to suppress *softly*? You may refer to Soft-NMS :cite:`Bodla.Singh.Chellappa.ea.2017`.\n",
        "1. Rather than being hand-crafted, can non-maximum suppression be learned?\n"
      ]
    },
    {
      "cell_type": "markdown",
      "id": "de5247c4",
      "metadata": {
        "origin_pos": 56,
        "tab": [
          "pytorch"
        ],
        "id": "de5247c4"
      },
      "source": [
        "[Discussions](https://discuss.d2l.ai/t/1603)\n"
      ]
    }
  ],
  "metadata": {
    "kernelspec": {
      "display_name": "Python 3",
      "name": "python3"
    },
    "language_info": {
      "name": "python"
    },
    "required_libs": [],
    "colab": {
      "provenance": [],
      "include_colab_link": true
    }
  },
  "nbformat": 4,
  "nbformat_minor": 5
}